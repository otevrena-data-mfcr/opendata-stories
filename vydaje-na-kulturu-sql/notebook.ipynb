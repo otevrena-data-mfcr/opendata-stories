{
    "metadata": {
        "kernelspec": {
            "name": "SQL",
            "display_name": "SQL",
            "language": "sql"
        },
        "language_info": {
            "name": "sql",
            "version": ""
        }
    },
    "nbformat_minor": 2,
    "nbformat": 4,
    "cells": [
        {
            "cell_type": "markdown",
            "source": [
                "#  Výdaje státního rozpočtu na kulturu"
            ],
            "metadata": {
                "azdata_cell_guid": "73ecebaf-3644-4cca-a3ea-726e114e016a"
            }
        },
        {
            "cell_type": "markdown",
            "source": [
                "V tomto návodu se pomocí podíváme na výdaje státního rozpočtu z aplikace MONITOR pomocí odvětvového třídění a to sice v jazyce SQL. Proto musíme mít data nejdříve v databázi, kam je dostaneme například pomocí našeho NodeJS skriptu. Odvětvové třídění je dělení výdajů pomocí takzvaných paragrafů. Ty jsou hierarchicky uspořádané do pododdílů, oddílů a skupin. Jak vypadá třídění paragrafů vidíte v tabulce `c_paragraf` pomocí následujícího příkazu:"
            ],
            "metadata": {
                "azdata_cell_guid": "f3b42dc0-f5ee-454e-9dad-95a79a6fe2eb"
            }
        },
        {
            "cell_type": "code",
            "source": [
                "SELECT * FROM monitor.c_paragraf LIMIT 10;"
            ],
            "metadata": {
                "azdata_cell_guid": "cab4e0ef-be3c-49c3-8367-a9a33f914062"
            },
            "outputs": [
                {
                    "output_type": "display_data",
                    "data": {
                        "text/html": "(10 row(s) affected)"
                    },
                    "metadata": {}
                },
                {
                    "output_type": "display_data",
                    "data": {
                        "text/html": "Total execution time: 00:00:00.139"
                    },
                    "metadata": {}
                },
                {
                    "output_type": "execute_result",
                    "execution_count": 14,
                    "data": {
                        "application/vnd.dataresource+json": {
                            "schema": {
                                "fields": [
                                    {
                                        "name": "paragraf"
                                    },
                                    {
                                        "name": "skupina"
                                    },
                                    {
                                        "name": "oddil"
                                    },
                                    {
                                        "name": "pododdil"
                                    },
                                    {
                                        "name": "paragraf_nazev"
                                    },
                                    {
                                        "name": "start_date"
                                    },
                                    {
                                        "name": "end_date"
                                    }
                                ]
                            },
                            "data": [
                                {
                                    "0": "0000",
                                    "1": "0",
                                    "2": "0",
                                    "3": "0",
                                    "4": "Pro příjmy (technický záznam)",
                                    "5": "1900-01-01",
                                    "6": "9999-12-31"
                                },
                                {
                                    "0": "1011",
                                    "1": "1",
                                    "2": "10",
                                    "3": "101",
                                    "4": "Udržování výrobního potenciálu zemědělství, zemědělský půdní fond a mimoprodukční funkce zemědělství",
                                    "5": "1900-01-01",
                                    "6": "9999-12-31"
                                },
                                {
                                    "0": "1012",
                                    "1": "1",
                                    "2": "10",
                                    "3": "101",
                                    "4": "Podnikání a restrukturalizace v zemědělství a potravinářství",
                                    "5": "1900-01-01",
                                    "6": "9999-12-31"
                                },
                                {
                                    "0": "1013",
                                    "1": "1",
                                    "2": "10",
                                    "3": "101",
                                    "4": "Genetický potenciál hospodářských zvířat, osiv a sádí",
                                    "5": "1900-01-01",
                                    "6": "9999-12-31"
                                },
                                {
                                    "0": "1014",
                                    "1": "1",
                                    "2": "10",
                                    "3": "101",
                                    "4": "Ozdravování hospodářských zvířat, polních a speciálních plodin a zvláštní veterinární péče",
                                    "5": "1900-01-01",
                                    "6": "9999-12-31"
                                },
                                {
                                    "0": "1019",
                                    "1": "1",
                                    "2": "10",
                                    "3": "101",
                                    "4": "Ostatní zemědělská a potravinářská činnost a rozvoj",
                                    "5": "1900-01-01",
                                    "6": "9999-12-31"
                                },
                                {
                                    "0": "1021",
                                    "1": "1",
                                    "2": "10",
                                    "3": "102",
                                    "4": "Organizace trhu s produkty rostlinné výroby",
                                    "5": "1900-01-01",
                                    "6": "9999-12-31"
                                },
                                {
                                    "0": "1022",
                                    "1": "1",
                                    "2": "10",
                                    "3": "102",
                                    "4": "Organizace trhu s výrobky vzniklými zpracováním produktů rostlinné výroby",
                                    "5": "1900-01-01",
                                    "6": "9999-12-31"
                                },
                                {
                                    "0": "1023",
                                    "1": "1",
                                    "2": "10",
                                    "3": "102",
                                    "4": "Organizace trhu s produkty živočišné výroby",
                                    "5": "1900-01-01",
                                    "6": "9999-12-31"
                                },
                                {
                                    "0": "1024",
                                    "1": "1",
                                    "2": "10",
                                    "3": "102",
                                    "4": "Organizace trhu s výrobky vzniklými zpracováním produktů živočišné výroby",
                                    "5": "1900-01-01",
                                    "6": "9999-12-31"
                                }
                            ]
                        },
                        "text/html": "<table><tr><th>paragraf</th><th>skupina</th><th>oddil</th><th>pododdil</th><th>paragraf_nazev</th><th>start_date</th><th>end_date</th></tr><tr><td>0000</td><td>0</td><td>0</td><td>0</td><td>Pro příjmy (technický záznam)</td><td>1900-01-01</td><td>9999-12-31</td></tr><tr><td>1011</td><td>1</td><td>10</td><td>101</td><td>Udržování výrobního potenciálu zemědělství, zemědělský půdní fond a mimoprodukční funkce zemědělství</td><td>1900-01-01</td><td>9999-12-31</td></tr><tr><td>1012</td><td>1</td><td>10</td><td>101</td><td>Podnikání a restrukturalizace v zemědělství a potravinářství</td><td>1900-01-01</td><td>9999-12-31</td></tr><tr><td>1013</td><td>1</td><td>10</td><td>101</td><td>Genetický potenciál hospodářských zvířat, osiv a sádí</td><td>1900-01-01</td><td>9999-12-31</td></tr><tr><td>1014</td><td>1</td><td>10</td><td>101</td><td>Ozdravování hospodářských zvířat, polních a speciálních plodin a zvláštní veterinární péče</td><td>1900-01-01</td><td>9999-12-31</td></tr><tr><td>1019</td><td>1</td><td>10</td><td>101</td><td>Ostatní zemědělská a potravinářská činnost a rozvoj</td><td>1900-01-01</td><td>9999-12-31</td></tr><tr><td>1021</td><td>1</td><td>10</td><td>102</td><td>Organizace trhu s produkty rostlinné výroby</td><td>1900-01-01</td><td>9999-12-31</td></tr><tr><td>1022</td><td>1</td><td>10</td><td>102</td><td>Organizace trhu s výrobky vzniklými zpracováním produktů rostlinné výroby</td><td>1900-01-01</td><td>9999-12-31</td></tr><tr><td>1023</td><td>1</td><td>10</td><td>102</td><td>Organizace trhu s produkty živočišné výroby</td><td>1900-01-01</td><td>9999-12-31</td></tr><tr><td>1024</td><td>1</td><td>10</td><td>102</td><td>Organizace trhu s výrobky vzniklými zpracováním produktů živočišné výroby</td><td>1900-01-01</td><td>9999-12-31</td></tr></table>"
                    },
                    "metadata": {}
                }
            ],
            "execution_count": 14
        },
        {
            "cell_type": "markdown",
            "source": [
                "Nás může zajímat například pododdíl 331, který slučuje paragrafy týkající se výdajů na **kulturu**:"
            ],
            "metadata": {
                "azdata_cell_guid": "d13d6d2c-16cb-4150-bca3-1959e4534aa4"
            }
        },
        {
            "cell_type": "code",
            "source": [
                "SELECT * FROM monitor.c_paragraf WHERE pododdil = '331';"
            ],
            "metadata": {
                "azdata_cell_guid": "4e0dbfde-bd7f-4640-b68f-31bda7b0cb88"
            },
            "outputs": [
                {
                    "output_type": "display_data",
                    "data": {
                        "text/html": "(8 row(s) affected)"
                    },
                    "metadata": {}
                },
                {
                    "output_type": "display_data",
                    "data": {
                        "text/html": "Total execution time: 00:00:00.113"
                    },
                    "metadata": {}
                },
                {
                    "output_type": "execute_result",
                    "execution_count": 16,
                    "data": {
                        "application/vnd.dataresource+json": {
                            "schema": {
                                "fields": [
                                    {
                                        "name": "paragraf"
                                    },
                                    {
                                        "name": "skupina"
                                    },
                                    {
                                        "name": "oddil"
                                    },
                                    {
                                        "name": "pododdil"
                                    },
                                    {
                                        "name": "paragraf_nazev"
                                    },
                                    {
                                        "name": "start_date"
                                    },
                                    {
                                        "name": "end_date"
                                    }
                                ]
                            },
                            "data": [
                                {
                                    "0": "3311",
                                    "1": "3",
                                    "2": "33",
                                    "3": "331",
                                    "4": "Divadelní činnost",
                                    "5": "1900-01-01",
                                    "6": "9999-12-31"
                                },
                                {
                                    "0": "3312",
                                    "1": "3",
                                    "2": "33",
                                    "3": "331",
                                    "4": "Hudební činnost",
                                    "5": "1900-01-01",
                                    "6": "9999-12-31"
                                },
                                {
                                    "0": "3313",
                                    "1": "3",
                                    "2": "33",
                                    "3": "331",
                                    "4": "Filmová tvorba, distribuce, kina a shromažďování audiovizuálních archiválií",
                                    "5": "1900-01-01",
                                    "6": "9999-12-31"
                                },
                                {
                                    "0": "3314",
                                    "1": "3",
                                    "2": "33",
                                    "3": "331",
                                    "4": "Činnosti knihovnické",
                                    "5": "1900-01-01",
                                    "6": "9999-12-31"
                                },
                                {
                                    "0": "3315",
                                    "1": "3",
                                    "2": "33",
                                    "3": "331",
                                    "4": "Činnosti muzeí a galerií",
                                    "5": "1900-01-01",
                                    "6": "9999-12-31"
                                },
                                {
                                    "0": "3316",
                                    "1": "3",
                                    "2": "33",
                                    "3": "331",
                                    "4": "Vydavatelská činnost",
                                    "5": "1900-01-01",
                                    "6": "9999-12-31"
                                },
                                {
                                    "0": "3317",
                                    "1": "3",
                                    "2": "33",
                                    "3": "331",
                                    "4": "Výstavní činnosti v kultuře",
                                    "5": "1900-01-01",
                                    "6": "9999-12-31"
                                },
                                {
                                    "0": "3319",
                                    "1": "3",
                                    "2": "33",
                                    "3": "331",
                                    "4": "Ostatní záležitosti kultury",
                                    "5": "1900-01-01",
                                    "6": "9999-12-31"
                                }
                            ]
                        },
                        "text/html": "<table><tr><th>paragraf</th><th>skupina</th><th>oddil</th><th>pododdil</th><th>paragraf_nazev</th><th>start_date</th><th>end_date</th></tr><tr><td>3311</td><td>3</td><td>33</td><td>331</td><td>Divadelní činnost</td><td>1900-01-01</td><td>9999-12-31</td></tr><tr><td>3312</td><td>3</td><td>33</td><td>331</td><td>Hudební činnost</td><td>1900-01-01</td><td>9999-12-31</td></tr><tr><td>3313</td><td>3</td><td>33</td><td>331</td><td>Filmová tvorba, distribuce, kina a shromažďování audiovizuálních archiválií</td><td>1900-01-01</td><td>9999-12-31</td></tr><tr><td>3314</td><td>3</td><td>33</td><td>331</td><td>Činnosti knihovnické</td><td>1900-01-01</td><td>9999-12-31</td></tr><tr><td>3315</td><td>3</td><td>33</td><td>331</td><td>Činnosti muzeí a galerií</td><td>1900-01-01</td><td>9999-12-31</td></tr><tr><td>3316</td><td>3</td><td>33</td><td>331</td><td>Vydavatelská činnost</td><td>1900-01-01</td><td>9999-12-31</td></tr><tr><td>3317</td><td>3</td><td>33</td><td>331</td><td>Výstavní činnosti v kultuře</td><td>1900-01-01</td><td>9999-12-31</td></tr><tr><td>3319</td><td>3</td><td>33</td><td>331</td><td>Ostatní záležitosti kultury</td><td>1900-01-01</td><td>9999-12-31</td></tr></table>"
                    },
                    "metadata": {}
                }
            ],
            "execution_count": 16
        },
        {
            "cell_type": "markdown",
            "source": [
                "Nás by ale teď zajímalo, kolik která instituce na kulturu dává. Na to máme data v tabulce `mis_ris`. Její strukturu si můžeme vypsat třeba pomocí schématu `information_schema` následovně:"
            ],
            "metadata": {
                "azdata_cell_guid": "5d0f3a49-dd58-4a02-be3a-b108882a9485"
            }
        },
        {
            "cell_type": "code",
            "source": [
                "SELECT \r\n",
                "   table_name, \r\n",
                "   column_name, \r\n",
                "   data_type   \r\n",
                "FROM \r\n",
                "   information_schema.columns\r\n",
                "WHERE \r\n",
                "   table_schema = 'monitor' AND table_name = 'mis_ris';"
            ],
            "metadata": {
                "azdata_cell_guid": "aba32d3c-4e7b-429a-b824-82721a404530"
            },
            "outputs": [
                {
                    "output_type": "display_data",
                    "data": {
                        "text/html": "(18 row(s) affected)"
                    },
                    "metadata": {}
                },
                {
                    "output_type": "display_data",
                    "data": {
                        "text/html": "Total execution time: 00:00:00.109"
                    },
                    "metadata": {}
                },
                {
                    "output_type": "execute_result",
                    "execution_count": 2,
                    "data": {
                        "application/vnd.dataresource+json": {
                            "schema": {
                                "fields": [
                                    {
                                        "name": "table_name"
                                    },
                                    {
                                        "name": "column_name"
                                    },
                                    {
                                        "name": "data_type"
                                    }
                                ]
                            },
                            "data": [
                                {
                                    "0": "mis_ris",
                                    "1": "year",
                                    "2": "smallint"
                                },
                                {
                                    "0": "mis_ris",
                                    "1": "month",
                                    "2": "smallint"
                                },
                                {
                                    "0": "mis_ris",
                                    "1": "fiscper",
                                    "2": "character varying"
                                },
                                {
                                    "0": "mis_ris",
                                    "1": "zc_ucjed",
                                    "2": "character varying"
                                },
                                {
                                    "0": "mis_ris",
                                    "1": "zc_ico",
                                    "2": "character varying"
                                },
                                {
                                    "0": "mis_ris",
                                    "1": "fm_area",
                                    "2": "character varying"
                                },
                                {
                                    "0": "mis_ris",
                                    "1": "zfunds_ct",
                                    "2": "character varying"
                                },
                                {
                                    "0": "mis_ris",
                                    "1": "zcmmt_itm",
                                    "2": "character varying"
                                },
                                {
                                    "0": "mis_ris",
                                    "1": "func_area",
                                    "2": "character varying"
                                },
                                {
                                    "0": "mis_ris",
                                    "1": "zc_fund",
                                    "2": "character varying"
                                },
                                {
                                    "0": "mis_ris",
                                    "1": "zc_eds",
                                    "2": "character varying"
                                },
                                {
                                    "0": "mis_ris",
                                    "1": "zc_ucris",
                                    "2": "character varying"
                                },
                                {
                                    "0": "mis_ris",
                                    "1": "zc_pvs",
                                    "2": "character varying"
                                },
                                {
                                    "0": "mis_ris",
                                    "1": "zu_rozsch",
                                    "2": "numeric"
                                },
                                {
                                    "0": "mis_ris",
                                    "1": "zu_rozpzm",
                                    "2": "numeric"
                                },
                                {
                                    "0": "mis_ris",
                                    "1": "zu_krozp",
                                    "2": "numeric"
                                },
                                {
                                    "0": "mis_ris",
                                    "1": "zu_oblig",
                                    "2": "numeric"
                                },
                                {
                                    "0": "mis_ris",
                                    "1": "zu_rozkz",
                                    "2": "numeric"
                                }
                            ]
                        },
                        "text/html": "<table><tr><th>table_name</th><th>column_name</th><th>data_type</th></tr><tr><td>mis_ris</td><td>year</td><td>smallint</td></tr><tr><td>mis_ris</td><td>month</td><td>smallint</td></tr><tr><td>mis_ris</td><td>fiscper</td><td>character varying</td></tr><tr><td>mis_ris</td><td>zc_ucjed</td><td>character varying</td></tr><tr><td>mis_ris</td><td>zc_ico</td><td>character varying</td></tr><tr><td>mis_ris</td><td>fm_area</td><td>character varying</td></tr><tr><td>mis_ris</td><td>zfunds_ct</td><td>character varying</td></tr><tr><td>mis_ris</td><td>zcmmt_itm</td><td>character varying</td></tr><tr><td>mis_ris</td><td>func_area</td><td>character varying</td></tr><tr><td>mis_ris</td><td>zc_fund</td><td>character varying</td></tr><tr><td>mis_ris</td><td>zc_eds</td><td>character varying</td></tr><tr><td>mis_ris</td><td>zc_ucris</td><td>character varying</td></tr><tr><td>mis_ris</td><td>zc_pvs</td><td>character varying</td></tr><tr><td>mis_ris</td><td>zu_rozsch</td><td>numeric</td></tr><tr><td>mis_ris</td><td>zu_rozpzm</td><td>numeric</td></tr><tr><td>mis_ris</td><td>zu_krozp</td><td>numeric</td></tr><tr><td>mis_ris</td><td>zu_oblig</td><td>numeric</td></tr><tr><td>mis_ris</td><td>zu_rozkz</td><td>numeric</td></tr></table>"
                    },
                    "metadata": {}
                }
            ],
            "execution_count": 2
        },
        {
            "cell_type": "markdown",
            "source": [
                "Z dokumentace Monitoru zjistíme, co znamenají pole `zu_rozsch`, `zu_rozpzm` a `zu_rozkz` a následně si tabulku napojíme na předchozí číselník paragrafů. Dále si můžeme připojit číselník účetnách jednotek \\`c\\_ucjed\\`, abychom věděli, které IČO patří kterí organizaci. Jak vidíme, nejvíce na kulturu dává očekávaně Ministerstvo kultury, pak Ministerstvo školství, ale vcelku překvapivě je na třetí příčce Ministerstvo zemědělství."
            ],
            "metadata": {
                "azdata_cell_guid": "26324e12-4b02-42ad-9b46-7d9cb025f5d0"
            }
        },
        {
            "cell_type": "code",
            "source": [
                "SELECT\r\n",
                "    P.pododdil,\r\n",
                "    zc_ico,\r\n",
                "    MAX(U.ucjed_nazev) AS nazev,\r\n",
                "    SUM(zu_rozsch) AS rozpocet_schvaleny,\r\n",
                "    SUM(zu_rozpzm) AS rozpocet_upraveny,\r\n",
                "    SUM(zu_rozkz) AS rozpocet_skutecnost\r\n",
                "FROM remote_monitor.mis_ris AS D\r\n",
                "\r\n",
                "-- připojení rozpočtových dat z tabulky mis_ris. zde pozor na pole start_date a end date, ktere urcuji platnost\r\n",
                "LEFT JOIN remote_monitor.c_paragraf AS P ON SUBSTR(D.func_area,1,4) = P.paragraf AND MAKE_DATE(D.year,1,1) BETWEEN P.start_date AND P.end_date\r\n",
                "\r\n",
                "-- připojení číselníku účetních jednotek\r\n",
                "LEFT JOIN remote_monitor.c_ucjed AS U ON U.ico = D.zc_ico AND MAKE_DATE(D.year,1,1) BETWEEN U.start_date AND U.end_date\r\n",
                "\r\n",
                "-- zde omezíme na pododdíl kultury a konec roku 2012\r\n",
                "WHERE P.pododdil = '331' AND year = 2019 AND month = 12\r\n",
                "\r\n",
                "-- sčítáme všechny položky v pododdílu, takže musíme říct, podle kterých údajů se má seskupovat. zde jsou to první dva sloupce\r\n",
                "GROUP BY 1,2"
            ],
            "metadata": {
                "azdata_cell_guid": "b9ef7eaa-4276-4f8b-ab3f-efa48a1cac1e",
                "tags": []
            },
            "outputs": [
                {
                    "output_type": "display_data",
                    "data": {
                        "text/html": "(6 row(s) affected)"
                    },
                    "metadata": {}
                },
                {
                    "output_type": "display_data",
                    "data": {
                        "text/html": "Total execution time: 00:00:07.682"
                    },
                    "metadata": {}
                },
                {
                    "output_type": "execute_result",
                    "metadata": {},
                    "execution_count": 2,
                    "data": {
                        "application/vnd.dataresource+json": {
                            "schema": {
                                "fields": [
                                    {
                                        "name": "pododdil"
                                    },
                                    {
                                        "name": "zc_ico"
                                    },
                                    {
                                        "name": "nazev"
                                    },
                                    {
                                        "name": "rozpocet_schvaleny"
                                    },
                                    {
                                        "name": "rozpocet_upraveny"
                                    },
                                    {
                                        "name": "rozpocet_skutecnost"
                                    }
                                ]
                            },
                            "data": [
                                {
                                    "0": "331",
                                    "1": "00000000",
                                    "2": "NULL",
                                    "3": "0.00",
                                    "4": "0.00",
                                    "5": "0.00"
                                },
                                {
                                    "0": "331",
                                    "1": "00020478",
                                    "2": "Ministerstvo zemědělství",
                                    "3": "86240000.00",
                                    "4": "89337248.41",
                                    "5": "241414833.99"
                                },
                                {
                                    "0": "331",
                                    "1": "00022985",
                                    "2": "Ministerstvo školství, mládeže a tělovýchovy",
                                    "3": "157905256.00",
                                    "4": "215025249.00",
                                    "5": "216014133.00"
                                },
                                {
                                    "0": "331",
                                    "1": "00023671",
                                    "2": "Ministerstvo kultury",
                                    "3": "7780973613.00",
                                    "4": "9879717090.62",
                                    "5": "8490386576.20"
                                },
                                {
                                    "0": "331",
                                    "1": "60162694",
                                    "2": "Ministerstvo obrany",
                                    "3": "0.00",
                                    "4": "19919740.00",
                                    "5": "19915040.00"
                                },
                                {
                                    "0": "331",
                                    "1": "60498030",
                                    "2": "Muzeum Policie České republiky",
                                    "3": "18924948.00",
                                    "4": "20358170.37",
                                    "5": "17175978.96"
                                }
                            ]
                        },
                        "text/html": [
                            "<table>",
                            "<tr><th>pododdil</th><th>zc_ico</th><th>nazev</th><th>rozpocet_schvaleny</th><th>rozpocet_upraveny</th><th>rozpocet_skutecnost</th></tr>",
                            "<tr><td>331</td><td>00000000</td><td>NULL</td><td>0.00</td><td>0.00</td><td>0.00</td></tr>",
                            "<tr><td>331</td><td>00020478</td><td>Ministerstvo zemědělství</td><td>86240000.00</td><td>89337248.41</td><td>241414833.99</td></tr>",
                            "<tr><td>331</td><td>00022985</td><td>Ministerstvo školství, mládeže a tělovýchovy</td><td>157905256.00</td><td>215025249.00</td><td>216014133.00</td></tr>",
                            "<tr><td>331</td><td>00023671</td><td>Ministerstvo kultury</td><td>7780973613.00</td><td>9879717090.62</td><td>8490386576.20</td></tr>",
                            "<tr><td>331</td><td>60162694</td><td>Ministerstvo obrany</td><td>0.00</td><td>19919740.00</td><td>19915040.00</td></tr>",
                            "<tr><td>331</td><td>60498030</td><td>Muzeum Policie České republiky</td><td>18924948.00</td><td>20358170.37</td><td>17175978.96</td></tr>",
                            "</table>"
                        ]
                    }
                }
            ],
            "execution_count": 2
        },
        {
            "cell_type": "markdown",
            "source": [
                "Jistě vás napadne, na co asi Ministerstvo zemědělství dává tolik peněz v odvětví kultury. Tak si zobrazíme větší detail, v rozpadu přímo na paragraf. A vidíme, že se jedná o muzea. Ministerstvo zemědělství totiž nejspíš touto částkou financuje zemědělská muzea, které jsou po celé ČR."
            ],
            "metadata": {
                "azdata_cell_guid": "1c6105dc-9168-4c9b-92b9-f579178140e2"
            }
        },
        {
            "cell_type": "code",
            "source": [
                "SELECT\r\n",
                "    P.paragraf,\r\n",
                "    MAX(P.paragraf_nazev) AS paragraf_nazev,\r\n",
                "    SUM(zu_rozsch) AS rozpocet_schvaleny,\r\n",
                "    SUM(zu_rozpzm) AS rozpocet_upraveny,\r\n",
                "    SUM(zu_rozkz) AS rozpocet_skutecnost\r\n",
                "FROM remote_monitor.mis_ris AS D\r\n",
                "LEFT JOIN remote_monitor.c_paragraf AS P ON SUBSTR(D.func_area,1,4) = P.paragraf AND MAKE_DATE(D.year,1,1) BETWEEN P.start_date AND P.end_date\r\n",
                "WHERE P.pododdil = '331' AND year = 2019 AND month = 12 AND zc_ico = '00020478'\r\n",
                "GROUP BY 1"
            ],
            "metadata": {
                "azdata_cell_guid": "8b887f59-bbc5-4ea5-b512-d09aa0b4b24a"
            },
            "outputs": [
                {
                    "output_type": "display_data",
                    "data": {
                        "text/html": "(2 row(s) affected)"
                    },
                    "metadata": {}
                },
                {
                    "output_type": "display_data",
                    "data": {
                        "text/html": "Total execution time: 00:00:04.025"
                    },
                    "metadata": {}
                },
                {
                    "output_type": "execute_result",
                    "execution_count": 10,
                    "data": {
                        "application/vnd.dataresource+json": {
                            "schema": {
                                "fields": [
                                    {
                                        "name": "paragraf"
                                    },
                                    {
                                        "name": "paragraf_nazev"
                                    },
                                    {
                                        "name": "rozpocet_schvaleny"
                                    },
                                    {
                                        "name": "rozpocet_upraveny"
                                    },
                                    {
                                        "name": "rozpocet_skutecnost"
                                    }
                                ]
                            },
                            "data": [
                                {
                                    "0": "3314",
                                    "1": "Činnosti knihovnické",
                                    "2": "0.00",
                                    "3": "353000.00",
                                    "4": "353000.00"
                                },
                                {
                                    "0": "3315",
                                    "1": "Činnosti muzeí a galerií",
                                    "2": "86240000.00",
                                    "3": "88984248.41",
                                    "4": "241061833.99"
                                }
                            ]
                        },
                        "text/html": "<table><tr><th>paragraf</th><th>paragraf_nazev</th><th>rozpocet_schvaleny</th><th>rozpocet_upraveny</th><th>rozpocet_skutecnost</th></tr><tr><td>3314</td><td>Činnosti knihovnické</td><td>0.00</td><td>353000.00</td><td>353000.00</td></tr><tr><td>3315</td><td>Činnosti muzeí a galerií</td><td>86240000.00</td><td>88984248.41</td><td>241061833.99</td></tr></table>"
                    },
                    "metadata": {}
                }
            ],
            "execution_count": 10
        }
    ]
}