{
    "cells": [
        {
            "cell_type": "markdown",
            "metadata": {},
            "source": [
                "# Vizualizace: Zadluženost obcí"
            ]
        },
        {
            "cell_type": "markdown",
            "metadata": {},
            "source": [
                "V tomto dokumentu se pokusíme prezentovat data z Monitoru státní pokladny, ve kterém nalezneme mimo jiné účetní data obcí, díky nimž můžeme získat jistý vhled do problematiky jejich zadluženosti. Pro srovnání jsme využili ukazatel celkové zadluženosti v roce 2019, tedy podíl cizích zdrojů na celkových aktivech obce. Pro závěrečnou ilustraci částek pak položku rozvahy \"dlouhodobé závazky\"."
            ]
        },
        {
            "cell_type": "markdown",
            "metadata": {},
            "source": [
                "V této ukázce jsme si práci trochu usnadnili a data zpracovali s využitím naší databáze, která data zpracovává do podoby tabulek automaticky. Na to, jak exporty ve formátu XML zpracovat ručně, se podíváme v jiném článku."
            ]
        },
        {
            "cell_type": "code",
            "execution_count": 1,
            "metadata": {},
            "outputs": [],
            "source": [
                "import pandas as pd\n",
                "data_ratios = pd.read_json(\"https://data.mf.gov.cz/api/stories/zadluzenost_pomer\")\n",
                "data_hist = pd.read_json(\"https://data.mf.gov.cz/api/stories/zadluzenost_histogram\")"
            ]
        },
        {
            "cell_type": "markdown",
            "metadata": {},
            "source": [
                "## Nejzadluženější obce"
            ]
        },
        {
            "cell_type": "markdown",
            "metadata": {},
            "source": [
                "Dle vybrané metriky jsou nejvíce zadlužené obce tyto:"
            ]
        },
        {
            "cell_type": "code",
            "execution_count": 2,
            "metadata": {},
            "outputs": [
                {
                    "data": {
                        "text/html": [
                            "<div>\n",
                            "<style scoped>\n",
                            "    .dataframe tbody tr th:only-of-type {\n",
                            "        vertical-align: middle;\n",
                            "    }\n",
                            "\n",
                            "    .dataframe tbody tr th {\n",
                            "        vertical-align: top;\n",
                            "    }\n",
                            "\n",
                            "    .dataframe thead th {\n",
                            "        text-align: right;\n",
                            "    }\n",
                            "</style>\n",
                            "<table border=\"1\" class=\"dataframe\">\n",
                            "  <thead>\n",
                            "    <tr style=\"text-align: right;\">\n",
                            "      <th></th>\n",
                            "      <th>Obec</th>\n",
                            "      <th>Míra celkové zadluženosti</th>\n",
                            "    </tr>\n",
                            "  </thead>\n",
                            "  <tbody>\n",
                            "    <tr>\n",
                            "      <th>3090</th>\n",
                            "      <td>Obec Turovice</td>\n",
                            "      <td>808.9%</td>\n",
                            "    </tr>\n",
                            "    <tr>\n",
                            "      <th>5888</th>\n",
                            "      <td>Obec Prameny</td>\n",
                            "      <td>431.0%</td>\n",
                            "    </tr>\n",
                            "    <tr>\n",
                            "      <th>3721</th>\n",
                            "      <td>Obec Olešnice</td>\n",
                            "      <td>79.8%</td>\n",
                            "    </tr>\n",
                            "    <tr>\n",
                            "      <th>3578</th>\n",
                            "      <td>Obec Koruna</td>\n",
                            "      <td>73.0%</td>\n",
                            "    </tr>\n",
                            "    <tr>\n",
                            "      <th>3657</th>\n",
                            "      <td>Obec Čestice</td>\n",
                            "      <td>71.2%</td>\n",
                            "    </tr>\n",
                            "    <tr>\n",
                            "      <th>625</th>\n",
                            "      <td>Obec Strýčice</td>\n",
                            "      <td>71.0%</td>\n",
                            "    </tr>\n",
                            "    <tr>\n",
                            "      <th>79</th>\n",
                            "      <td>Obec Podsedice</td>\n",
                            "      <td>68.4%</td>\n",
                            "    </tr>\n",
                            "    <tr>\n",
                            "      <th>763</th>\n",
                            "      <td>Městys Panenský Týnec</td>\n",
                            "      <td>58.4%</td>\n",
                            "    </tr>\n",
                            "    <tr>\n",
                            "      <th>2446</th>\n",
                            "      <td>Obec Doubek</td>\n",
                            "      <td>56.4%</td>\n",
                            "    </tr>\n",
                            "    <tr>\n",
                            "      <th>4847</th>\n",
                            "      <td>Obec Naloučany</td>\n",
                            "      <td>55.2%</td>\n",
                            "    </tr>\n",
                            "  </tbody>\n",
                            "</table>\n",
                            "</div>"
                        ],
                        "text/plain": [
                            "                       Obec Míra celkové zadluženosti\n",
                            "3090          Obec Turovice                    808.9%\n",
                            "5888           Obec Prameny                    431.0%\n",
                            "3721          Obec Olešnice                     79.8%\n",
                            "3578            Obec Koruna                     73.0%\n",
                            "3657           Obec Čestice                     71.2%\n",
                            "625           Obec Strýčice                     71.0%\n",
                            "79           Obec Podsedice                     68.4%\n",
                            "763   Městys Panenský Týnec                     58.4%\n",
                            "2446            Obec Doubek                     56.4%\n",
                            "4847         Obec Naloučany                     55.2%"
                        ]
                    },
                    "execution_count": 2,
                    "metadata": {},
                    "output_type": "execute_result"
                }
            ],
            "source": [
                "view = pd.DataFrame(data_ratios).sort_values(by='ratio', ascending=False).rename({\"ucjed_nazev\":\"Obec\"},axis=1)\n",
                "pomer_format = view['ratio'].apply(lambda x: '{0:.1f}'.format(x*100)+\"%\")\n",
                "view[\"Míra celkové zadluženosti\"] = pomer_format\n",
                "view.drop(\"ratio\",axis=1).head(10)"
            ]
        },
        {
            "cell_type": "markdown",
            "metadata": {},
            "source": [
                "### Rozdělení obcí dle zadlužení:"
            ]
        },
        {
            "cell_type": "markdown",
            "metadata": {},
            "source": [
                "Mimo obce nejzadluženější se podíváme ještě na to, jak si vedou obce celkově. Následující histogram ukazuje, v jakých řádech se pohybují dlouhodobé závazky obcí. Pro každý řád ukazuje výše sloupce počet obcí, které do takové kategorie spadají. Jak vidíme, značné množství obcí nalezneme již v první skupině, tedy v oblasti nulového dlouhodobého zadlužení."
            ]
        },
        {
            "cell_type": "code",
            "execution_count": 3,
            "metadata": {},
            "outputs": [],
            "source": [
                "def format_sup(x):\n",
                "    how = str.maketrans(\"0123456789\", \"⁰¹²³⁴⁵⁶⁷⁸⁹\")\n",
                "    if(x==0):\n",
                "        return 1\n",
                "    else:\n",
                "        return \"10\"+str(x).translate(how)\n",
                "\n",
                "labels = list(data_hist[\"bucket\"].apply(format_sup))\n",
                "values = list(data_hist[\"count\"])"
            ]
        },
        {
            "cell_type": "code",
            "execution_count": 4,
            "metadata": {},
            "outputs": [
                {
                    "name": "stderr",
                    "output_type": "stream",
                    "text": [
                        "C:\\Users\\tomvi\\Anaconda3\\lib\\site-packages\\IPython\\core\\display.py:694: UserWarning: Consider using IPython.display.IFrame instead\n",
                        "  warnings.warn(\"Consider using IPython.display.IFrame instead\")\n"
                    ]
                },
                {
                    "data": {
                        "text/html": [
                            "<iframe srcdoc=\"\n",
                            "        <!-- Load Charts.js -->\n",
                            "       <script src='https://cdnjs.cloudflare.com/ajax/libs/Chart.js/2.5.0/Chart.bundle.min.js'></script>\n",
                            "    \n",
                            "        <canvas id='chart'></canvas>\n",
                            "        <script>\n",
                            "            var ctx = document.getElementById('chart').getContext('2d');\n",
                            "            ctx.canvas.width  = 800 - (.1 * 800);\n",
                            "            ctx.canvas.height = 420 - (.15 * 420);\n",
                            "            var myNewChart = new Chart(ctx,{ type: 'bar', data: {\n",
                            "    'labels': [\n",
                            "        1,\n",
                            "        '10\\u00b9',\n",
                            "        '10\\u00b2',\n",
                            "        '10\\u00b3',\n",
                            "        '10\\u2074',\n",
                            "        '10\\u2075',\n",
                            "        '10\\u2076',\n",
                            "        '10\\u2077',\n",
                            "        '10\\u2078',\n",
                            "        '10\\u2079',\n",
                            "        '10\\u00b9\\u2070'\n",
                            "    ],\n",
                            "    'datasets': [\n",
                            "        {\n",
                            "            'label': 'Po\\u010det obc\\u00ed',\n",
                            "            'data': [\n",
                            "                2433,\n",
                            "                2,\n",
                            "                1,\n",
                            "                4,\n",
                            "                124,\n",
                            "                320,\n",
                            "                754,\n",
                            "                1637,\n",
                            "                893,\n",
                            "                79,\n",
                            "                5\n",
                            "            ],\n",
                            "            'backgroundColor': '#0099ff'\n",
                            "        }\n",
                            "    ]\n",
                            "}, options: null });\n",
                            "        </script>\n",
                            "    \" src=\"\" width=\"800\" height=\"420\" frameborder=0 sandbox=\"allow-scripts\"></iframe>"
                        ],
                        "text/plain": [
                            "<IPython.core.display.HTML object>"
                        ]
                    },
                    "execution_count": 4,
                    "metadata": {},
                    "output_type": "execute_result"
                }
            ],
            "source": [
                "from iplotter import ChartJSPlotter\n",
                "plotter = ChartJSPlotter()\n",
                "chart = {\"labels\": labels,\"datasets\": [{\"label\":\"Počet obcí\",\"data\": values, \"backgroundColor\":\"#0099ff\"}]}      \n",
                "plotter.plot(chart,chart_type=\"bar\",options=None)"
            ]
        },
        {
            "cell_type": "code",
            "execution_count": null,
            "metadata": {},
            "outputs": [],
            "source": []
        }
    ],
    "metadata": {
        "kernelspec": {
            "display_name": "Python 3",
            "language": "python",
            "name": "python3"
        },
        "language_info": {
            "codemirror_mode": {
                "name": "ipython",
                "version": 3
            },
            "file_extension": ".py",
            "mimetype": "text/x-python",
            "name": "python",
            "nbconvert_exporter": "python",
            "pygments_lexer": "ipython3",
            "version": "3.6.8"
        }
    },
    "nbformat": 4,
    "nbformat_minor": 4
}