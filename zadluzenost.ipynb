{
 "cells": [
  {
   "cell_type": "code",
   "execution_count": 8,
   "metadata": {},
   "outputs": [],
   "source": [
    "import pandas as pd\n",
    "\n",
    "data_hist = pd.read_json(\"https://opendata.mfcr.cz/api/stories/zadluzenost_histogram\")\n",
    "\n",
    "data_ratios = pd.read_json(\"https://opendata.mfcr.cz/api/stories/zadluzenost_pomer\")"
   ]
  },
  {
   "cell_type": "code",
   "execution_count": 9,
   "metadata": {},
   "outputs": [
    {
     "data": {
      "text/markdown": [
       "# Zadluženost obcí dle dlouhodobých závazků v roce 2019"
      ],
      "text/plain": [
       "<IPython.core.display.Markdown object>"
      ]
     },
     "execution_count": 9,
     "metadata": {},
     "output_type": "execute_result"
    }
   ],
   "source": [
    "from IPython.display import Markdown as md\n",
    "md(\"# Zadluženost obcí dle dlouhodobých závazků v roce 2019\")"
   ]
  },
  {
   "cell_type": "markdown",
   "metadata": {},
   "source": [
    "V tomto dokumentu se pokusíme prezentovat data z Monitoru státní pokladny, ve kterém nalezneme mimo jiné účetní data obcí, díky nimž můžeme získat jistý vhled do problematiky zadluženosti obcí. Pro ilustraci částek jsme využili položku rozvahy \"dlouhodobé závazky\". Pro srovnání pak ukazatel celkové zadluženosti, tedy podíl cizích zdrojů na celkových aktivech obce."
   ]
  },
  {
   "cell_type": "markdown",
   "metadata": {},
   "source": [
    "## Nejzadluženejší obce"
   ]
  },
  {
   "cell_type": "code",
   "execution_count": 10,
   "metadata": {},
   "outputs": [
    {
     "data": {
      "text/html": [
       "<div>\n",
       "<style scoped>\n",
       "    .dataframe tbody tr th:only-of-type {\n",
       "        vertical-align: middle;\n",
       "    }\n",
       "\n",
       "    .dataframe tbody tr th {\n",
       "        vertical-align: top;\n",
       "    }\n",
       "\n",
       "    .dataframe thead th {\n",
       "        text-align: right;\n",
       "    }\n",
       "</style>\n",
       "<table border=\"1\" class=\"dataframe\">\n",
       "  <thead>\n",
       "    <tr style=\"text-align: right;\">\n",
       "      <th></th>\n",
       "      <th>Obec</th>\n",
       "      <th>Míra celkové zadluženosti</th>\n",
       "    </tr>\n",
       "  </thead>\n",
       "  <tbody>\n",
       "    <tr>\n",
       "      <th>3090</th>\n",
       "      <td>Obec Turovice</td>\n",
       "      <td>808.9%</td>\n",
       "    </tr>\n",
       "    <tr>\n",
       "      <th>5888</th>\n",
       "      <td>Obec Prameny</td>\n",
       "      <td>431.0%</td>\n",
       "    </tr>\n",
       "    <tr>\n",
       "      <th>3721</th>\n",
       "      <td>Obec Olešnice</td>\n",
       "      <td>79.8%</td>\n",
       "    </tr>\n",
       "    <tr>\n",
       "      <th>3578</th>\n",
       "      <td>Obec Koruna</td>\n",
       "      <td>73.0%</td>\n",
       "    </tr>\n",
       "    <tr>\n",
       "      <th>3657</th>\n",
       "      <td>Obec Čestice</td>\n",
       "      <td>71.2%</td>\n",
       "    </tr>\n",
       "    <tr>\n",
       "      <th>625</th>\n",
       "      <td>Obec Strýčice</td>\n",
       "      <td>71.0%</td>\n",
       "    </tr>\n",
       "    <tr>\n",
       "      <th>79</th>\n",
       "      <td>Obec Podsedice</td>\n",
       "      <td>68.4%</td>\n",
       "    </tr>\n",
       "    <tr>\n",
       "      <th>763</th>\n",
       "      <td>Městys Panenský Týnec</td>\n",
       "      <td>58.4%</td>\n",
       "    </tr>\n",
       "    <tr>\n",
       "      <th>2446</th>\n",
       "      <td>Obec Doubek</td>\n",
       "      <td>56.4%</td>\n",
       "    </tr>\n",
       "    <tr>\n",
       "      <th>4847</th>\n",
       "      <td>Obec Naloučany</td>\n",
       "      <td>55.2%</td>\n",
       "    </tr>\n",
       "  </tbody>\n",
       "</table>\n",
       "</div>"
      ],
      "text/plain": [
       "                       Obec Míra celkové zadluženosti\n",
       "3090          Obec Turovice                    808.9%\n",
       "5888           Obec Prameny                    431.0%\n",
       "3721          Obec Olešnice                     79.8%\n",
       "3578            Obec Koruna                     73.0%\n",
       "3657           Obec Čestice                     71.2%\n",
       "625           Obec Strýčice                     71.0%\n",
       "79           Obec Podsedice                     68.4%\n",
       "763   Městys Panenský Týnec                     58.4%\n",
       "2446            Obec Doubek                     56.4%\n",
       "4847         Obec Naloučany                     55.2%"
      ]
     },
     "execution_count": 10,
     "metadata": {},
     "output_type": "execute_result"
    }
   ],
   "source": [
    "view = pd.DataFrame(data_ratios)\n",
    "view = view.sort_values(by=['ratio'], ascending=False)\n",
    "view_ratio = view['ratio'].apply(lambda x: '{0:.1f}'.format(x*100)+\"%\")\n",
    "view = pd.DataFrame(view[\"ucjed_nazev\"]).join(view_ratio)\n",
    "\n",
    "view = view.rename(columns={\"ucjed_nazev\": \"Obec\",\"ratio\": \"Míra celkové zadluženosti\"})\n",
    "view.head(10)"
   ]
  },
  {
   "cell_type": "code",
   "execution_count": 11,
   "metadata": {},
   "outputs": [],
   "source": [
    "data_hist = data_hist.transpose()\n",
    "labels = list(data_hist.iloc[0].apply(lambda x: 10**x))\n",
    "values = list(data_hist.iloc[1])"
   ]
  },
  {
   "cell_type": "markdown",
   "metadata": {},
   "source": [
    "### Rozdělení obcí dle zadlužení:"
   ]
  },
  {
   "cell_type": "code",
   "execution_count": 13,
   "metadata": {},
   "outputs": [
    {
     "data": {
      "text/html": [
       "<iframe srcdoc=\"\n",
       "        <!-- Load Charts.js -->\n",
       "       <script src='https://cdnjs.cloudflare.com/ajax/libs/Chart.js/2.5.0/Chart.bundle.min.js'></script>\n",
       "    \n",
       "        <canvas id='chart'></canvas>\n",
       "        <script>\n",
       "            var ctx = document.getElementById('chart').getContext('2d');\n",
       "            ctx.canvas.width  = 800 - (.1 * 800);\n",
       "            ctx.canvas.height = 420 - (.15 * 420);\n",
       "            var myNewChart = new Chart(ctx,{ type: 'bar', data: {\n",
       "    'labels': [\n",
       "        1,\n",
       "        10,\n",
       "        100,\n",
       "        1000,\n",
       "        10000,\n",
       "        100000,\n",
       "        1000000,\n",
       "        10000000,\n",
       "        100000000,\n",
       "        1000000000,\n",
       "        10000000000\n",
       "    ],\n",
       "    'datasets': [\n",
       "        {\n",
       "            'label': 'Po\\u010det obc\\u00ed',\n",
       "            'data': [\n",
       "                2433,\n",
       "                2,\n",
       "                1,\n",
       "                4,\n",
       "                124,\n",
       "                320,\n",
       "                754,\n",
       "                1637,\n",
       "                893,\n",
       "                79,\n",
       "                5\n",
       "            ],\n",
       "            'backgroundColor': '#0099ff'\n",
       "        }\n",
       "    ]\n",
       "}, options: null });\n",
       "        </script>\n",
       "    \" src=\"\" width=\"800\" height=\"420\" frameborder=0 sandbox=\"allow-scripts\"></iframe>"
      ],
      "text/plain": [
       "<IPython.core.display.HTML object>"
      ]
     },
     "execution_count": 13,
     "metadata": {},
     "output_type": "execute_result"
    }
   ],
   "source": [
    "from iplotter import ChartJSPlotter\n",
    "\n",
    "plotter = ChartJSPlotter()\n",
    "\n",
    "chart = {\n",
    "    \"labels\": labels,\n",
    "    \"datasets\": [{\"label\":\"Počet obcí\",\"data\": values, \"backgroundColor\":\"#0099ff\"\n",
    "        }\n",
    "        ]\n",
    "        }\n",
    "        \n",
    "plotter.plot(chart,chart_type=\"bar\",options=None)"
   ]
  },
  {
   "cell_type": "code",
   "execution_count": null,
   "metadata": {},
   "outputs": [],
   "source": []
  },
  {
   "cell_type": "code",
   "execution_count": null,
   "metadata": {},
   "outputs": [],
   "source": []
  },
  {
   "cell_type": "code",
   "execution_count": null,
   "metadata": {},
   "outputs": [],
   "source": []
  }
 ],
 "metadata": {
  "kernelspec": {
   "display_name": "Python 3",
   "language": "python",
   "name": "python3"
  },
  "language_info": {
   "codemirror_mode": {
    "name": "ipython",
    "version": 3
   },
   "file_extension": ".py",
   "mimetype": "text/x-python",
   "name": "python",
   "nbconvert_exporter": "python",
   "pygments_lexer": "ipython3",
   "version": "3.7.6"
  }
 },
 "nbformat": 4,
 "nbformat_minor": 4
}
