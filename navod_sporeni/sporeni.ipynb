{
    "cells": [
        {
            "cell_type": "markdown",
            "metadata": {},
            "source": [
                "# Návod: Pohled na stavební a penzijní spoření"
            ]
        },
        {
            "cell_type": "markdown",
            "metadata": {},
            "source": [
                "V následujících řádcích se pokusíme ilustrovat použití otevřených dat publikovaných na našem portálu. Konkrétně půjde o datové sady [Vývoj stavebního spoření](https://data.mf.gov.cz/topics/stavebni-sporeni.html) a [Penzijní připojištění a spoření](https://data.mf.gov.cz/topics/penzijni.html) a jejich zpracování bude prezentováno v programovacím jazyce Python. Mimo to se zde pokusíme poukázat na problémy, které se zpracováním dat souvisejí a které se neomezují pouze na tyto dvě datové sady.\n",
                "\n",
                "Zabývat se budeme především tím, jak se do dat promítly konkrétní události a jaké trendy můžeme vypozorovat. Také budeme zkoumat, zdali spolu tato data nějak souvisí, tedy jestli se sklon k ukládání úspor formou stavebního spoření vyvíjí v čase podobně, jako je tomu u spoření penzijního."
            ]
        },
        {
            "cell_type": "markdown",
            "metadata": {},
            "source": [
                "## Stavební spoření"
            ]
        },
        {
            "cell_type": "markdown",
            "metadata": {},
            "source": [
                "Nahrajeme data přímo z našeho portálu a podíváme se na jejich strukturu:"
            ]
        },
        {
            "cell_type": "code",
            "execution_count": 1,
            "metadata": {},
            "outputs": [
                {
                    "data": {
                        "text/plain": [
                            "index                          int64\n",
                            "rok                            int64\n",
                            "ctvrtleti                      int64\n",
                            "nove_smlouvy                   int64\n",
                            "prumerna_cilova_castka       float64\n",
                            "smlouvy_sporeni                int64\n",
                            "statni_podpora                 int64\n",
                            "prumerna_podpora             float64\n",
                            "nasporena_castka               int64\n",
                            "uvery_celkem                   int64\n",
                            "uvery_ss                       int64\n",
                            "uvery_preklenovaci             int64\n",
                            "uvery_castka_celkem            int64\n",
                            "uvery_castka_ss                int64\n",
                            "uvery_castka_preklenovaci      int64\n",
                            "dtype: object"
                        ]
                    },
                    "execution_count": 1,
                    "metadata": {},
                    "output_type": "execute_result"
                }
            ],
            "source": [
                "import pandas as pd\n",
                "stavebni=pd.read_csv(\"https://data.mf.gov.cz/exports/stavebni_sporeni/csv\").sort_values([\"rok\",\"ctvrtleti\"]).reset_index()\n",
                "stavebni.dtypes"
            ]
        },
        {
            "cell_type": "markdown",
            "metadata": {},
            "source": [
                "Z tohoto přehledu, stejně jako ze struktury dat na [našem portálu](https://data.mf.gov.cz/topics/stavebni-sporeni.html), víme, že každý záznam je identifikován rokem a čtvrtletím. Koukneme se tedy, které jejich kombinace v datové sadě jsou:"
            ]
        },
        {
            "cell_type": "code",
            "execution_count": 2,
            "metadata": {},
            "outputs": [
                {
                    "data": {
                        "text/html": [
                            "<div>\n",
                            "<style scoped>\n",
                            "    .dataframe tbody tr th:only-of-type {\n",
                            "        vertical-align: middle;\n",
                            "    }\n",
                            "\n",
                            "    .dataframe tbody tr th {\n",
                            "        vertical-align: top;\n",
                            "    }\n",
                            "\n",
                            "    .dataframe thead th {\n",
                            "        text-align: right;\n",
                            "    }\n",
                            "</style>\n",
                            "<table border=\"1\" class=\"dataframe\">\n",
                            "  <thead>\n",
                            "    <tr style=\"text-align: right;\">\n",
                            "      <th></th>\n",
                            "      <th>rok</th>\n",
                            "      <th>ctvrtleti</th>\n",
                            "    </tr>\n",
                            "  </thead>\n",
                            "  <tbody>\n",
                            "    <tr>\n",
                            "      <th>0</th>\n",
                            "      <td>1997</td>\n",
                            "      <td>4</td>\n",
                            "    </tr>\n",
                            "    <tr>\n",
                            "      <th>1</th>\n",
                            "      <td>1998</td>\n",
                            "      <td>4</td>\n",
                            "    </tr>\n",
                            "    <tr>\n",
                            "      <th>2</th>\n",
                            "      <td>1999</td>\n",
                            "      <td>4</td>\n",
                            "    </tr>\n",
                            "    <tr>\n",
                            "      <th>3</th>\n",
                            "      <td>2000</td>\n",
                            "      <td>4</td>\n",
                            "    </tr>\n",
                            "    <tr>\n",
                            "      <th>4</th>\n",
                            "      <td>2001</td>\n",
                            "      <td>4</td>\n",
                            "    </tr>\n",
                            "  </tbody>\n",
                            "</table>\n",
                            "</div>"
                        ],
                        "text/plain": [
                            "    rok  ctvrtleti\n",
                            "0  1997          4\n",
                            "1  1998          4\n",
                            "2  1999          4\n",
                            "3  2000          4\n",
                            "4  2001          4"
                        ]
                    },
                    "execution_count": 2,
                    "metadata": {},
                    "output_type": "execute_result"
                }
            ],
            "source": [
                "stavebni[[\"rok\",\"ctvrtleti\"]].head()"
            ]
        },
        {
            "cell_type": "code",
            "execution_count": 3,
            "metadata": {},
            "outputs": [
                {
                    "data": {
                        "text/html": [
                            "<div>\n",
                            "<style scoped>\n",
                            "    .dataframe tbody tr th:only-of-type {\n",
                            "        vertical-align: middle;\n",
                            "    }\n",
                            "\n",
                            "    .dataframe tbody tr th {\n",
                            "        vertical-align: top;\n",
                            "    }\n",
                            "\n",
                            "    .dataframe thead th {\n",
                            "        text-align: right;\n",
                            "    }\n",
                            "</style>\n",
                            "<table border=\"1\" class=\"dataframe\">\n",
                            "  <thead>\n",
                            "    <tr style=\"text-align: right;\">\n",
                            "      <th></th>\n",
                            "      <th>rok</th>\n",
                            "      <th>ctvrtleti</th>\n",
                            "    </tr>\n",
                            "  </thead>\n",
                            "  <tbody>\n",
                            "    <tr>\n",
                            "      <th>11</th>\n",
                            "      <td>2008</td>\n",
                            "      <td>1</td>\n",
                            "    </tr>\n",
                            "    <tr>\n",
                            "      <th>12</th>\n",
                            "      <td>2008</td>\n",
                            "      <td>2</td>\n",
                            "    </tr>\n",
                            "    <tr>\n",
                            "      <th>13</th>\n",
                            "      <td>2008</td>\n",
                            "      <td>3</td>\n",
                            "    </tr>\n",
                            "    <tr>\n",
                            "      <th>15</th>\n",
                            "      <td>2009</td>\n",
                            "      <td>1</td>\n",
                            "    </tr>\n",
                            "    <tr>\n",
                            "      <th>16</th>\n",
                            "      <td>2009</td>\n",
                            "      <td>2</td>\n",
                            "    </tr>\n",
                            "  </tbody>\n",
                            "</table>\n",
                            "</div>"
                        ],
                        "text/plain": [
                            "     rok  ctvrtleti\n",
                            "11  2008          1\n",
                            "12  2008          2\n",
                            "13  2008          3\n",
                            "15  2009          1\n",
                            "16  2009          2"
                        ]
                    },
                    "execution_count": 3,
                    "metadata": {},
                    "output_type": "execute_result"
                }
            ],
            "source": [
                "stavebni[stavebni.ctvrtleti!=4][[\"rok\",\"ctvrtleti\"]].head()"
            ]
        },
        {
            "cell_type": "markdown",
            "metadata": {},
            "source": [
                "Zde vidíme první možný problém: z datové sady lze extrahovat více časových řad, v tomto případě podle frekvence záznamů. Jelikož jsou záznamy za čtvrtletí dostupná pouze od roku 2008, je třeba pro každé zkoumání zvážit, zdali je důležitější délka časového období, nebo naopak vyšší frekvence záznamů.\n",
                "\n",
                "Pokud bychom chtěli data čtvrtletní, je vhodné poznamenat, že pro časovou řadu veličin závisejících na časovém období (tzv. flow variables) je třeba data řádně upravit. To proto, že každý takový záznam značí období mezi začátkem roku a koncem daného čtvrtletí, nikoli období čtvrtletí samotného. Toto platí například pro počty nových smluv. Potřebná transformace lze pak provést třeba takto:"
            ]
        },
        {
            "cell_type": "code",
            "execution_count": 4,
            "metadata": {},
            "outputs": [
                {
                    "data": {
                        "text/html": [
                            "<div>\n",
                            "<style scoped>\n",
                            "    .dataframe tbody tr th:only-of-type {\n",
                            "        vertical-align: middle;\n",
                            "    }\n",
                            "\n",
                            "    .dataframe tbody tr th {\n",
                            "        vertical-align: top;\n",
                            "    }\n",
                            "\n",
                            "    .dataframe thead th {\n",
                            "        text-align: right;\n",
                            "    }\n",
                            "</style>\n",
                            "<table border=\"1\" class=\"dataframe\">\n",
                            "  <thead>\n",
                            "    <tr style=\"text-align: right;\">\n",
                            "      <th></th>\n",
                            "      <th>rok</th>\n",
                            "      <th>ctvrtleti</th>\n",
                            "      <th>nove_smlouvy</th>\n",
                            "      <th>nove_smlouvy_v_obdobi</th>\n",
                            "    </tr>\n",
                            "  </thead>\n",
                            "  <tbody>\n",
                            "    <tr>\n",
                            "      <th>55</th>\n",
                            "      <td>2019</td>\n",
                            "      <td>1</td>\n",
                            "      <td>112759</td>\n",
                            "      <td>112759.0</td>\n",
                            "    </tr>\n",
                            "    <tr>\n",
                            "      <th>56</th>\n",
                            "      <td>2019</td>\n",
                            "      <td>2</td>\n",
                            "      <td>204144</td>\n",
                            "      <td>91385.0</td>\n",
                            "    </tr>\n",
                            "    <tr>\n",
                            "      <th>57</th>\n",
                            "      <td>2019</td>\n",
                            "      <td>3</td>\n",
                            "      <td>320487</td>\n",
                            "      <td>116343.0</td>\n",
                            "    </tr>\n",
                            "    <tr>\n",
                            "      <th>58</th>\n",
                            "      <td>2019</td>\n",
                            "      <td>4</td>\n",
                            "      <td>485176</td>\n",
                            "      <td>164689.0</td>\n",
                            "    </tr>\n",
                            "    <tr>\n",
                            "      <th>59</th>\n",
                            "      <td>2020</td>\n",
                            "      <td>1</td>\n",
                            "      <td>120496</td>\n",
                            "      <td>120496.0</td>\n",
                            "    </tr>\n",
                            "  </tbody>\n",
                            "</table>\n",
                            "</div>"
                        ],
                        "text/plain": [
                            "     rok  ctvrtleti  nove_smlouvy  nove_smlouvy_v_obdobi\n",
                            "55  2019          1        112759               112759.0\n",
                            "56  2019          2        204144                91385.0\n",
                            "57  2019          3        320487               116343.0\n",
                            "58  2019          4        485176               164689.0\n",
                            "59  2020          1        120496               120496.0"
                        ]
                    },
                    "execution_count": 4,
                    "metadata": {},
                    "output_type": "execute_result"
                }
            ],
            "source": [
                "import numpy as np\n",
                "nove_smlouvy_v_obdobi=[]\n",
                "for i in range(len(stavebni)):\n",
                "    if stavebni.ctvrtleti[i]==1:\n",
                "        nove=stavebni.nove_smlouvy[i]\n",
                "    elif i-1 in stavebni[stavebni[\"rok\"]==stavebni.rok[i]].ctvrtleti:\n",
                "        nove=stavebni.nove_smlouvy[i]-stavebni.nove_smlouvy[i-1]\n",
                "    else:\n",
                "        nove=np.NaN\n",
                "    nove_smlouvy_v_obdobi.append(nove)\n",
                "\n",
                "stavebni[\"nove_smlouvy_v_obdobi\"]=nove_smlouvy_v_obdobi\n",
                "stavebni[[\"rok\",\"ctvrtleti\",\"nove_smlouvy\",\"nove_smlouvy_v_obdobi\"]].tail()"
            ]
        },
        {
            "cell_type": "markdown",
            "metadata": {},
            "source": [
                "Jako ukazatel sklonu k úsporám formou stavebního spoření si vybereme právě tento počet nově uzavřených smluv. "
            ]
        },
        {
            "cell_type": "code",
            "execution_count": 5,
            "metadata": {},
            "outputs": [],
            "source": [
                "import matplotlib.pyplot as plt\n",
                "import seaborn as sns\n",
                "sns.set_style(\"dark\")\n",
                "font = {'size':12,'weight':'normal'}\n",
                "plt.rc('font', **font)\n",
                "bars=stavebni[stavebni.ctvrtleti==4][\"nove_smlouvy\"]"
            ]
        },
        {
            "cell_type": "code",
            "execution_count": 6,
            "metadata": {},
            "outputs": [
                {
                    "data": {
                        "image/png": "[encoded data removed]",
                        "text/plain": [
                            "<Figure size 432x288 with 1 Axes>"
                        ]
                    },
                    "metadata": {
                        "needs_background": "light"
                    },
                    "output_type": "display_data"
                }
            ],
            "source": [
                "plt.xticks(np.arange(len(bars)),stavebni[stavebni.ctvrtleti==4][\"rok\"].apply(lambda x: str(x)[-2:]))\n",
                "plt.bar(np.arange(len(bars)),bars,color='#7f5d5f')\n",
                "plt.show()"
            ]
        },
        {
            "cell_type": "markdown",
            "metadata": {},
            "source": [
                "Podíváme-li se na vývoj veličiny v čase, jasně vidíme, jak se projevují jednotlivé události. Jako nejvýraznější se zdá býti schválení zákona č. 423/2003 Sb., který snížil míru státní podpory z 25 % na 15 % ročně a její maximální roční výší ze 4500 Kč na 3000 Kč. Naopak obdobná změna, která přišla v roce 2011 a dále změnila 15 % na nových 10 % a nové maximum nastavila na 2000 Kč, se již v takové míře neprojevila, i když pokles můžeme zaznamenat i tam. Mimo tyto legislativní změny lze v datech dále vysledovat jasný efekt hospodářské krize, jejíž počátek časově odpovídá lokálnímu maximu v roce 2008."
            ]
        },
        {
            "cell_type": "markdown",
            "metadata": {},
            "source": [
                "## Penzijní spoření"
            ]
        },
        {
            "cell_type": "markdown",
            "metadata": {},
            "source": [
                "Zde zvolíme velice podobný postup:"
            ]
        },
        {
            "cell_type": "code",
            "execution_count": 7,
            "metadata": {
                "scrolled": true
            },
            "outputs": [
                {
                    "data": {
                        "text/plain": [
                            "index                       int64\n",
                            "rok                         int64\n",
                            "ctvrtleti                   int64\n",
                            "pocet_pp                    int64\n",
                            "pocet_dps                   int64\n",
                            "nove_pp                     int64\n",
                            "nove_dps                    int64\n",
                            "nove_dps_z_pp               int64\n",
                            "se_zamestnavatelem_pp       int64\n",
                            "se_zamestnavatelem_dps      int64\n",
                            "statni_pp                   int64\n",
                            "statni_dps                  int64\n",
                            "ucastniku_pp                int64\n",
                            "ucastniku_dps               int64\n",
                            "prumerny_statni_pp        float64\n",
                            "prumerny_statni_dps       float64\n",
                            "prumerny_ucastniku_pp     float64\n",
                            "prumerny_ucastniku_dps    float64\n",
                            "dtype: object"
                        ]
                    },
                    "execution_count": 7,
                    "metadata": {},
                    "output_type": "execute_result"
                }
            ],
            "source": [
                "import pandas as pd\n",
                "penzijni=pd.read_csv(\"https://data.mf.gov.cz/exports/penzijni_sporeni/csv\").sort_values([\"rok\",\"ctvrtleti\"]).reset_index()\n",
                "penzijni.dtypes"
            ]
        },
        {
            "cell_type": "code",
            "execution_count": 8,
            "metadata": {},
            "outputs": [
                {
                    "data": {
                        "text/html": [
                            "<div>\n",
                            "<style scoped>\n",
                            "    .dataframe tbody tr th:only-of-type {\n",
                            "        vertical-align: middle;\n",
                            "    }\n",
                            "\n",
                            "    .dataframe tbody tr th {\n",
                            "        vertical-align: top;\n",
                            "    }\n",
                            "\n",
                            "    .dataframe thead th {\n",
                            "        text-align: right;\n",
                            "    }\n",
                            "</style>\n",
                            "<table border=\"1\" class=\"dataframe\">\n",
                            "  <thead>\n",
                            "    <tr style=\"text-align: right;\">\n",
                            "      <th></th>\n",
                            "      <th>rok</th>\n",
                            "      <th>ctvrtleti</th>\n",
                            "    </tr>\n",
                            "  </thead>\n",
                            "  <tbody>\n",
                            "    <tr>\n",
                            "      <th>0</th>\n",
                            "      <td>2000</td>\n",
                            "      <td>4</td>\n",
                            "    </tr>\n",
                            "    <tr>\n",
                            "      <th>1</th>\n",
                            "      <td>2001</td>\n",
                            "      <td>4</td>\n",
                            "    </tr>\n",
                            "    <tr>\n",
                            "      <th>2</th>\n",
                            "      <td>2002</td>\n",
                            "      <td>4</td>\n",
                            "    </tr>\n",
                            "    <tr>\n",
                            "      <th>3</th>\n",
                            "      <td>2003</td>\n",
                            "      <td>4</td>\n",
                            "    </tr>\n",
                            "    <tr>\n",
                            "      <th>4</th>\n",
                            "      <td>2004</td>\n",
                            "      <td>4</td>\n",
                            "    </tr>\n",
                            "  </tbody>\n",
                            "</table>\n",
                            "</div>"
                        ],
                        "text/plain": [
                            "    rok  ctvrtleti\n",
                            "0  2000          4\n",
                            "1  2001          4\n",
                            "2  2002          4\n",
                            "3  2003          4\n",
                            "4  2004          4"
                        ]
                    },
                    "execution_count": 8,
                    "metadata": {},
                    "output_type": "execute_result"
                }
            ],
            "source": [
                "penzijni[[\"rok\",\"ctvrtleti\"]].head()"
            ]
        },
        {
            "cell_type": "code",
            "execution_count": 9,
            "metadata": {},
            "outputs": [
                {
                    "data": {
                        "text/html": [
                            "<div>\n",
                            "<style scoped>\n",
                            "    .dataframe tbody tr th:only-of-type {\n",
                            "        vertical-align: middle;\n",
                            "    }\n",
                            "\n",
                            "    .dataframe tbody tr th {\n",
                            "        vertical-align: top;\n",
                            "    }\n",
                            "\n",
                            "    .dataframe thead th {\n",
                            "        text-align: right;\n",
                            "    }\n",
                            "</style>\n",
                            "<table border=\"1\" class=\"dataframe\">\n",
                            "  <thead>\n",
                            "    <tr style=\"text-align: right;\">\n",
                            "      <th></th>\n",
                            "      <th>rok</th>\n",
                            "      <th>ctvrtleti</th>\n",
                            "    </tr>\n",
                            "  </thead>\n",
                            "  <tbody>\n",
                            "    <tr>\n",
                            "      <th>8</th>\n",
                            "      <td>2008</td>\n",
                            "      <td>1</td>\n",
                            "    </tr>\n",
                            "    <tr>\n",
                            "      <th>9</th>\n",
                            "      <td>2008</td>\n",
                            "      <td>2</td>\n",
                            "    </tr>\n",
                            "    <tr>\n",
                            "      <th>10</th>\n",
                            "      <td>2008</td>\n",
                            "      <td>3</td>\n",
                            "    </tr>\n",
                            "    <tr>\n",
                            "      <th>12</th>\n",
                            "      <td>2009</td>\n",
                            "      <td>1</td>\n",
                            "    </tr>\n",
                            "    <tr>\n",
                            "      <th>13</th>\n",
                            "      <td>2009</td>\n",
                            "      <td>2</td>\n",
                            "    </tr>\n",
                            "  </tbody>\n",
                            "</table>\n",
                            "</div>"
                        ],
                        "text/plain": [
                            "     rok  ctvrtleti\n",
                            "8   2008          1\n",
                            "9   2008          2\n",
                            "10  2008          3\n",
                            "12  2009          1\n",
                            "13  2009          2"
                        ]
                    },
                    "execution_count": 9,
                    "metadata": {},
                    "output_type": "execute_result"
                }
            ],
            "source": [
                "penzijni[penzijni.ctvrtleti!=4][[\"rok\",\"ctvrtleti\"]].head()"
            ]
        },
        {
            "cell_type": "code",
            "execution_count": 10,
            "metadata": {},
            "outputs": [
                {
                    "data": {
                        "image/png": "[encoded data removed]",
                        "text/plain": [
                            "<Figure size 432x288 with 1 Axes>"
                        ]
                    },
                    "metadata": {
                        "needs_background": "light"
                    },
                    "output_type": "display_data"
                }
            ],
            "source": [
                "penzijni[\"nove_celkem\"]=penzijni.nove_pp+penzijni.nove_dps\n",
                "bars=penzijni[penzijni.ctvrtleti==4][\"nove_celkem\"]\n",
                "plt.xticks(np.arange(len(bars)),penzijni[penzijni.ctvrtleti==4][\"rok\"].apply(lambda x: str(x)[-2:]))\n",
                "plt.bar(np.arange(len(bars)),bars,color='#7f5d5f')\n",
                "plt.show()"
            ]
        },
        {
            "cell_type": "markdown",
            "metadata": {},
            "source": [
                "Stejně jako v předchozím případě se do počtu nových smluv promítla změna legislativy, kdy zanikla možnost uzavírat penzijní připojištění a vzniklo doplňkové penzijní spoření, které je, zjednodušeně řečeno, jeho funkční náhradou. Jak je však patrné z enormního nárůstu smluv v posledním roce, kdy bylo možné penzijní připojištění uzavírat (2012), není náhradou přesnou, a tak prosté napojení těchto dvou časových řad není zcela korektní. Podobně je zde zachycen i vliv zmíněné hospodářské krize v podobě poklesu po roce 2008."
            ]
        },
        {
            "cell_type": "markdown",
            "metadata": {},
            "source": [
                "## Srovnání"
            ]
        },
        {
            "cell_type": "markdown",
            "metadata": {},
            "source": [
                "Výše zmíněná zjištění nám výrazně znesnadňují srovnání, jelikož se nějak musíme vypořádat s extrémními hodnotami způsobené změnami legislativy, které tyto datové sady značně odlišují. Na jednoduchém srovnání ukážeme, proč je to problém, a jak se výsledky změní, pokud provedeme některé úpravy."
            ]
        },
        {
            "cell_type": "code",
            "execution_count": 11,
            "metadata": {},
            "outputs": [
                {
                    "data": {
                        "image/png": "[encoded data removed]",
                        "text/plain": [
                            "<Figure size 432x288 with 1 Axes>"
                        ]
                    },
                    "metadata": {
                        "needs_background": "light"
                    },
                    "output_type": "display_data"
                }
            ],
            "source": [
                "barWidth=0.25\n",
                "bars1=stavebni[(stavebni.ctvrtleti==4) & (stavebni.rok>=2000)].nove_smlouvy\n",
                "bars2=penzijni[penzijni.ctvrtleti==4].nove_celkem\n",
                "plt.xticks([r + barWidth/2 for r in range(len(bars1))], \\\n",
                "           penzijni[penzijni.ctvrtleti==4][\"rok\"].apply(lambda x: str(x)[-2:]))\n",
                "r1 = np.arange(len(bars1))\n",
                "r2 = [x + barWidth for x in r1]\n",
                "plt.bar(r1,bars1,color=\"#7f5d5f\",width=1.3*barWidth,label=\"stavební\")\n",
                "plt.bar(r2,bars2, color=\"#547f2d\",width=1.3*barWidth,label=\"penzijní\",edgecolor='white')\n",
                "plt.legend()\n",
                "plt.show()"
            ]
        },
        {
            "cell_type": "code",
            "execution_count": 12,
            "metadata": {},
            "outputs": [
                {
                    "name": "stdout",
                    "output_type": "stream",
                    "text": [
                        "0.0384\n",
                        "0.3331\n",
                        "0.6814\n"
                    ]
                }
            ],
            "source": [
                "def print_corr(data1,data2): # korelační koeficient\n",
                "    print(round(np.corrcoef(data1,data2)[0,1],4))\n",
                "\n",
                "print_corr(stavebni[(stavebni.ctvrtleti==4) & (stavebni.rok>=2000)].nove_smlouvy,\\\n",
                "           penzijni[penzijni.ctvrtleti==4].nove_celkem)\n",
                "\n",
                "print_corr(stavebni[(stavebni.ctvrtleti==4) & (stavebni.rok>=2005)].nove_smlouvy,\\\n",
                "           penzijni[(penzijni.ctvrtleti==4) & (penzijni.rok>=2005)].nove_celkem)\n",
                "\n",
                "print_corr(stavebni[(stavebni.ctvrtleti==4) & (stavebni.rok>=2005) & (2011>=stavebni.rok)].nove_smlouvy,\\\n",
                "           penzijni[(penzijni.ctvrtleti==4) & (penzijni.rok>=2005) & (2011>=penzijni.rok)].nove_celkem)"
            ]
        },
        {
            "cell_type": "markdown",
            "metadata": {},
            "source": [
                "Jak graf, tak následné korelační koeficienty ukazují, že v prvních pěti letech je vlivem zmíněné změně v legislativě mezi daty výrazný nesoulad. Pokud se období do první změny stavebního spoření vynechá, podobnost je značnější. Stále je zde však změna v penzijním spoření, která po roce 2011 tento trend znovu výrazně mění. Ve výsledku je tak největší soulad v období mezi změnami, tedy od roku 2005 do roku 2011. Toto období však není příliš dlouhé a reflektuje především reakci na jeden konkrétní popud v podobě Velké recese."
            ]
        },
        {
            "cell_type": "markdown",
            "metadata": {},
            "source": [
                "Posledním místem, které stojí za zkoumání, je období po všech zmíněných změnách. To má tu výhodu, že v tomto období již máme k dispozici čtvrtletní data."
            ]
        },
        {
            "cell_type": "code",
            "execution_count": 13,
            "metadata": {},
            "outputs": [
                {
                    "data": {
                        "image/png": "[encoded data removed]",
                        "text/plain": [
                            "<Figure size 432x288 with 1 Axes>"
                        ]
                    },
                    "metadata": {
                        "needs_background": "light"
                    },
                    "output_type": "display_data"
                }
            ],
            "source": [
                "nove_celkem_v_obdobi=[]\n",
                "for i in range(len(penzijni)):\n",
                "    if penzijni.ctvrtleti[i]==1:\n",
                "        nove=penzijni.nove_celkem[i]\n",
                "    elif i-1 in penzijni[penzijni[\"rok\"]==penzijni.rok[i]].ctvrtleti:\n",
                "        nove=penzijni.nove_celkem[i]-penzijni.nove_celkem[i-1]\n",
                "    else:\n",
                "        nove=np.NaN\n",
                "    nove_celkem_v_obdobi.append(nove)\n",
                "penzijni[\"nove_celkem_v_obdobi\"]=nove_celkem_v_obdobi\n",
                "\n",
                "bars1=stavebni[stavebni.rok>=2014].nove_smlouvy_v_obdobi\n",
                "bars2=penzijni[penzijni.rok>=2014].nove_celkem_v_obdobi\n",
                "plt.xticks([r + barWidth/2 for r in range(len(bars1))], \\\n",
                "           penzijni[penzijni.rok>=2014][\"ctvrtleti\"].apply(lambda x: str(x)[-2:]))\n",
                "r1 = np.arange(len(bars1))\n",
                "r2 = [x + barWidth for x in r1]\n",
                "plt.bar(r1,bars1,color=\"#7f5d5f\",width=1.3*barWidth,label=\"stavební\")\n",
                "plt.bar(r2,bars2, color=\"#547f2d\",width=1.3*barWidth,label=\"penzijní\",edgecolor='white')\n",
                "plt.legend()\n",
                "plt.show()"
            ]
        },
        {
            "cell_type": "code",
            "execution_count": 14,
            "metadata": {},
            "outputs": [
                {
                    "name": "stdout",
                    "output_type": "stream",
                    "text": [
                        "0.0344\n"
                    ]
                }
            ],
            "source": [
                "print_corr(bars1,bars2)"
            ]
        },
        {
            "cell_type": "markdown",
            "metadata": {},
            "source": [
                "Z grafu je patrné, že obě časové řady vykazují značně odlišné trendy. To dokazuje taktéž velmi nízký korelační koeficient. Jedním z trendů, který můžeme sledovat, je sezónnost v datech o stavebním spoření. Zkusíme tuto vlastnost kvantifikovat průměrem v rámci stejného kvartálu:"
            ]
        },
        {
            "cell_type": "code",
            "execution_count": 15,
            "metadata": {
                "scrolled": true
            },
            "outputs": [
                {
                    "name": "stdout",
                    "output_type": "stream",
                    "text": [
                        "stavební\n",
                        "118611.0\n",
                        "99549.0\n",
                        "82947.0\n",
                        "121827.0\n",
                        "\n",
                        "25765.0\n",
                        "\n",
                        "penzijní\n",
                        "55606.0\n",
                        "54738.0\n",
                        "50452.0\n",
                        "53535.0\n",
                        "\n",
                        "12835.0\n"
                    ]
                }
            ],
            "source": [
                "print(\"stavební\")\n",
                "for i in range(1,5):\n",
                "    print(round(np.mean(stavebni[(stavebni.rok>=2014)&(stavebni.ctvrtleti==i)][\"nove_smlouvy_v_obdobi\"]),0))\n",
                "print(\"\")\n",
                "print(round(np.std(stavebni[stavebni.rok>=2014][\"nove_smlouvy_v_obdobi\"]),0)) # směrodatná odchylka\n",
                "print(\"\")\n",
                "print(\"penzijní\")\n",
                "for i in range(1,5):\n",
                "    print(round(np.mean(penzijni[(penzijni.rok>=2014)&(penzijni.ctvrtleti==i)][\"nove_celkem_v_obdobi\"]),0))\n",
                "print(\"\")\n",
                "print(round(np.std(penzijni[penzijni.rok>=2014][\"nove_celkem_v_obdobi\"]),0))"
            ]
        },
        {
            "cell_type": "markdown",
            "metadata": {},
            "source": [
                "Zde vidíme, že tato sezónnost, tedy inklinace k uzavírání nových smluv v prvním a posledním kvartálu, spíše než v kvartálech jiných, se zdá při srovnání se směrodatnou odchylkou významná. Naopak v případě dat o penzijním spoření jsou rozdíly zanedbatelné, z čehož můžeme usuzovat, že na uzavírání takovýchto smluv nemá část roku přílišný vliv."
            ]
        },
        {
            "cell_type": "markdown",
            "metadata": {},
            "source": [
                "## Závěr"
            ]
        },
        {
            "cell_type": "markdown",
            "metadata": {},
            "source": [
                "Z tohoto jednoduchého pohledu je jasně vidět, že ačkoli se předpoklad obdobného vývoje penzijního a stavebního spoření zdá na první pohled rozumný, nedá se v tomto případě na tuto intuici zcela spoléhat. To proto, že vývoj obou časových řad je značně ovlivněn změnami v legislativě, které zafungovaly jako pohnutka k uzavření smluv o pojištění bezprostředně před datem jejich účinnosti, čímž narušily celkový vývoj obou veličin. Taktéž lze v datech o stavebním spoření zaznamenat trend uzavírání smluv v prvním a posledním čtvrtletí roku, který v datech o spoření penzijním přítomen není. Jako jediné období obdobného vývoje obou veličin se ukázaly roky před a v průběhu Velké recese, kde byl růst a následný pokles značně korelovaný.\n",
                "\n",
                "Zajisté by bylo možné takto nastíněný pohled dále rozšířit, významnost trendů otestovat za pomoci rigoróznějších postupů, či analýzu zlepšit užitím dalších datových zdrojů – to však již necháme na Vás, na uživatelích našich otevřených dat."
            ]
        }
    ],
    "metadata": {
        "kernelspec": {
            "display_name": "Python 3",
            "language": "python",
            "name": "python3"
        },
        "language_info": {
            "codemirror_mode": {
                "name": "ipython",
                "version": 3
            },
            "file_extension": ".py",
            "mimetype": "text/x-python",
            "name": "python",
            "nbconvert_exporter": "python",
            "pygments_lexer": "ipython3",
            "version": "3.6.8"
        }
    },
    "nbformat": 4,
    "nbformat_minor": 2
}