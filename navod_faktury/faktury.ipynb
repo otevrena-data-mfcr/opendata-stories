{
 "cells": [
  {
   "cell_type": "markdown",
   "metadata": {},
   "source": [
    "## Úvod"
   ]
  },
  {
   "cell_type": "markdown",
   "metadata": {},
   "source": [
    "Pod tématem [Hospodaření Ministerstva financí](https://opendata.mfcr.cz/topics/hospodareni-mf) na našem portálu lze najít celkem šest datových sad, z nichž snad nejzajímavější je [přehled uhrazených faktur](https://opendata.mfcr.cz/catalog/#/datasets/https:%2F%2Fopendata.mfcr.cz%2Flod%2Fkatalog%2Ffaktury-ministerstva-financi-cr). Právě této datové sadě se v tomto krátkém článku budeme věnovat, zatímco se budeme pokoušet nastínit základní specifika této datové sady, které uživatel nemůže při jejím zpracování opomenout. Kde se nám tak zdálo vhodné, doplňuje text názorná ukázka možného zpracování dat v programovacím jazyce Python za použití balíčku Pandas."
   ]
  },
  {
   "cell_type": "markdown",
   "metadata": {},
   "source": [
    "## Denormalizovaná data"
   ]
  },
  {
   "cell_type": "markdown",
   "metadata": {},
   "source": [
    "Uživatel si musí být především vědom, že tato datová sada vznikla denormalizací dat, která jsou jinak v tradičním, relačním modelu (v relační databázi) uložena ve dvou tabulkách. Těmi jsou celkový přehled faktur a k němu příslušné dělení dle položky rozpočtu. Jak to vypadá v praxi, lze vyčíst z letmého pohledu na prvních několik řádků."
   ]
  },
  {
   "cell_type": "code",
   "execution_count": 72,
   "metadata": {},
   "outputs": [],
   "source": [
    "import pandas as pd\n",
    "\n",
    "dtype = {\"dodavatel_ičo\" : \"str\", \"položka_rozpočtu\" : \"str\", \"účel_platby\" : \"str\"}\n",
    "\n",
    "faktury = pd.read_csv(\"https://opendata.mfcr.cz/exports/faktury/faktury.csv\", dtype = dtype)"
   ]
  },
  {
   "cell_type": "code",
   "execution_count": 73,
   "metadata": {},
   "outputs": [
    {
     "data": {
      "text/html": [
       "<div>\n",
       "<style scoped>\n",
       "    .dataframe tbody tr th:only-of-type {\n",
       "        vertical-align: middle;\n",
       "    }\n",
       "\n",
       "    .dataframe tbody tr th {\n",
       "        vertical-align: top;\n",
       "    }\n",
       "\n",
       "    .dataframe thead th {\n",
       "        text-align: right;\n",
       "    }\n",
       "</style>\n",
       "<table border=\"1\" class=\"dataframe\">\n",
       "  <thead>\n",
       "    <tr style=\"text-align: right;\">\n",
       "      <th></th>\n",
       "      <th>typ_záznamu</th>\n",
       "      <th>iri</th>\n",
       "      <th>dodavatel_ičo</th>\n",
       "      <th>dodavatel_název</th>\n",
       "      <th>typ_dokladu</th>\n",
       "      <th>částka</th>\n",
       "      <th>částka_bez_dph</th>\n",
       "      <th>částka_v_měně</th>\n",
       "      <th>měna</th>\n",
       "      <th>datum_vystavení</th>\n",
       "      <th>datum_přijetí</th>\n",
       "      <th>datum_splatnosti</th>\n",
       "      <th>datum_úhrady</th>\n",
       "      <th>částka_k_úhradě</th>\n",
       "      <th>částka_k_úhradě_v_měně</th>\n",
       "      <th>účel_platby</th>\n",
       "      <th>položka_rozpočtu</th>\n",
       "      <th>název_položky_rozpočtu</th>\n",
       "      <th>částka_za_položku_rozpočtu</th>\n",
       "      <th>číslo_faktury</th>\n",
       "    </tr>\n",
       "  </thead>\n",
       "  <tbody>\n",
       "    <tr>\n",
       "      <th>137589</th>\n",
       "      <td>souhrnný</td>\n",
       "      <td>https://opendata.mfcr.cz/lod/faktury/1000001258</td>\n",
       "      <td>14890992</td>\n",
       "      <td>IBM Česká republika, spol. s r.o.</td>\n",
       "      <td>F</td>\n",
       "      <td>205128831.6</td>\n",
       "      <td>205128831.6</td>\n",
       "      <td>205128831.6</td>\n",
       "      <td>CZK</td>\n",
       "      <td>2010-03-24T00:00:00.000Z</td>\n",
       "      <td>2010-03-25T00:00:00.000Z</td>\n",
       "      <td>2010-04-15T00:00:00.000Z</td>\n",
       "      <td>2010-03-31T00:00:00.000Z</td>\n",
       "      <td>205128831.6</td>\n",
       "      <td>205128831.6</td>\n",
       "      <td>NaN</td>\n",
       "      <td>NaN</td>\n",
       "      <td>NaN</td>\n",
       "      <td>NaN</td>\n",
       "      <td>1000001258</td>\n",
       "    </tr>\n",
       "    <tr>\n",
       "      <th>137590</th>\n",
       "      <td>položkový</td>\n",
       "      <td>https://opendata.mfcr.cz/lod/faktury/100000125...</td>\n",
       "      <td>14890992</td>\n",
       "      <td>IBM Česká republika, spol. s r.o.</td>\n",
       "      <td>F</td>\n",
       "      <td>205128831.6</td>\n",
       "      <td>205128831.6</td>\n",
       "      <td>205128831.6</td>\n",
       "      <td>CZK</td>\n",
       "      <td>2010-03-24T00:00:00.000Z</td>\n",
       "      <td>2010-03-25T00:00:00.000Z</td>\n",
       "      <td>2010-04-15T00:00:00.000Z</td>\n",
       "      <td>2010-03-31T00:00:00.000Z</td>\n",
       "      <td>205128831.6</td>\n",
       "      <td>205128831.6</td>\n",
       "      <td>NaN</td>\n",
       "      <td>6111</td>\n",
       "      <td>Programové vybavení</td>\n",
       "      <td>205128831.6</td>\n",
       "      <td>1000001258</td>\n",
       "    </tr>\n",
       "    <tr>\n",
       "      <th>126316</th>\n",
       "      <td>souhrnný</td>\n",
       "      <td>https://opendata.mfcr.cz/lod/faktury/1099900086</td>\n",
       "      <td>14890992</td>\n",
       "      <td>IBM Česká republika, spol. s r.o.</td>\n",
       "      <td>F</td>\n",
       "      <td>157715251.2</td>\n",
       "      <td>157715251.2</td>\n",
       "      <td>157715251.2</td>\n",
       "      <td>CZK</td>\n",
       "      <td>2009-12-18T00:00:00.000Z</td>\n",
       "      <td>2011-01-12T00:00:00.000Z</td>\n",
       "      <td>2011-01-10T00:00:00.000Z</td>\n",
       "      <td>2011-01-18T00:00:00.000Z</td>\n",
       "      <td>157715251.2</td>\n",
       "      <td>157715251.2</td>\n",
       "      <td>NaN</td>\n",
       "      <td>NaN</td>\n",
       "      <td>NaN</td>\n",
       "      <td>NaN</td>\n",
       "      <td>1099900086</td>\n",
       "    </tr>\n",
       "    <tr>\n",
       "      <th>126317</th>\n",
       "      <td>položkový</td>\n",
       "      <td>https://opendata.mfcr.cz/lod/faktury/109990008...</td>\n",
       "      <td>14890992</td>\n",
       "      <td>IBM Česká republika, spol. s r.o.</td>\n",
       "      <td>F</td>\n",
       "      <td>157715251.2</td>\n",
       "      <td>157715251.2</td>\n",
       "      <td>157715251.2</td>\n",
       "      <td>CZK</td>\n",
       "      <td>2009-12-18T00:00:00.000Z</td>\n",
       "      <td>2011-01-12T00:00:00.000Z</td>\n",
       "      <td>2011-01-10T00:00:00.000Z</td>\n",
       "      <td>2011-01-18T00:00:00.000Z</td>\n",
       "      <td>157715251.2</td>\n",
       "      <td>157715251.2</td>\n",
       "      <td>NaN</td>\n",
       "      <td>6111</td>\n",
       "      <td>Programové vybavení</td>\n",
       "      <td>157715251.2</td>\n",
       "      <td>1099900086</td>\n",
       "    </tr>\n",
       "    <tr>\n",
       "      <th>124707</th>\n",
       "      <td>souhrnný</td>\n",
       "      <td>https://opendata.mfcr.cz/lod/faktury/1100000821</td>\n",
       "      <td>14890992</td>\n",
       "      <td>IBM Česká republika, spol. s r.o.</td>\n",
       "      <td>Z</td>\n",
       "      <td>150000000.0</td>\n",
       "      <td>150000000.0</td>\n",
       "      <td>150000000.0</td>\n",
       "      <td>CZK</td>\n",
       "      <td>2011-03-01T00:00:00.000Z</td>\n",
       "      <td>2011-03-08T00:00:00.000Z</td>\n",
       "      <td>2011-03-29T00:00:00.000Z</td>\n",
       "      <td>2011-03-29T00:00:00.000Z</td>\n",
       "      <td>150000000.0</td>\n",
       "      <td>150000000.0</td>\n",
       "      <td>NaN</td>\n",
       "      <td>NaN</td>\n",
       "      <td>NaN</td>\n",
       "      <td>NaN</td>\n",
       "      <td>1100000821</td>\n",
       "    </tr>\n",
       "  </tbody>\n",
       "</table>\n",
       "</div>"
      ],
      "text/plain": [
       "       typ_záznamu                                                iri  \\\n",
       "137589    souhrnný    https://opendata.mfcr.cz/lod/faktury/1000001258   \n",
       "137590   položkový  https://opendata.mfcr.cz/lod/faktury/100000125...   \n",
       "126316    souhrnný    https://opendata.mfcr.cz/lod/faktury/1099900086   \n",
       "126317   položkový  https://opendata.mfcr.cz/lod/faktury/109990008...   \n",
       "124707    souhrnný    https://opendata.mfcr.cz/lod/faktury/1100000821   \n",
       "\n",
       "       dodavatel_ičo                    dodavatel_název typ_dokladu  \\\n",
       "137589      14890992  IBM Česká republika, spol. s r.o.           F   \n",
       "137590      14890992  IBM Česká republika, spol. s r.o.           F   \n",
       "126316      14890992  IBM Česká republika, spol. s r.o.           F   \n",
       "126317      14890992  IBM Česká republika, spol. s r.o.           F   \n",
       "124707      14890992  IBM Česká republika, spol. s r.o.           Z   \n",
       "\n",
       "             částka  částka_bez_dph  částka_v_měně měna  \\\n",
       "137589  205128831.6     205128831.6    205128831.6  CZK   \n",
       "137590  205128831.6     205128831.6    205128831.6  CZK   \n",
       "126316  157715251.2     157715251.2    157715251.2  CZK   \n",
       "126317  157715251.2     157715251.2    157715251.2  CZK   \n",
       "124707  150000000.0     150000000.0    150000000.0  CZK   \n",
       "\n",
       "                 datum_vystavení             datum_přijetí  \\\n",
       "137589  2010-03-24T00:00:00.000Z  2010-03-25T00:00:00.000Z   \n",
       "137590  2010-03-24T00:00:00.000Z  2010-03-25T00:00:00.000Z   \n",
       "126316  2009-12-18T00:00:00.000Z  2011-01-12T00:00:00.000Z   \n",
       "126317  2009-12-18T00:00:00.000Z  2011-01-12T00:00:00.000Z   \n",
       "124707  2011-03-01T00:00:00.000Z  2011-03-08T00:00:00.000Z   \n",
       "\n",
       "                datum_splatnosti              datum_úhrady  částka_k_úhradě  \\\n",
       "137589  2010-04-15T00:00:00.000Z  2010-03-31T00:00:00.000Z      205128831.6   \n",
       "137590  2010-04-15T00:00:00.000Z  2010-03-31T00:00:00.000Z      205128831.6   \n",
       "126316  2011-01-10T00:00:00.000Z  2011-01-18T00:00:00.000Z      157715251.2   \n",
       "126317  2011-01-10T00:00:00.000Z  2011-01-18T00:00:00.000Z      157715251.2   \n",
       "124707  2011-03-29T00:00:00.000Z  2011-03-29T00:00:00.000Z      150000000.0   \n",
       "\n",
       "        částka_k_úhradě_v_měně účel_platby položka_rozpočtu  \\\n",
       "137589             205128831.6         NaN              NaN   \n",
       "137590             205128831.6         NaN             6111   \n",
       "126316             157715251.2         NaN              NaN   \n",
       "126317             157715251.2         NaN             6111   \n",
       "124707             150000000.0         NaN              NaN   \n",
       "\n",
       "       název_položky_rozpočtu  částka_za_položku_rozpočtu  číslo_faktury  \n",
       "137589                    NaN                         NaN     1000001258  \n",
       "137590    Programové vybavení                 205128831.6     1000001258  \n",
       "126316                    NaN                         NaN     1099900086  \n",
       "126317    Programové vybavení                 157715251.2     1099900086  \n",
       "124707                    NaN                         NaN     1100000821  "
      ]
     },
     "execution_count": 73,
     "metadata": {},
     "output_type": "execute_result"
    }
   ],
   "source": [
    "faktury.sort_values(by = [\"částka\", \"číslo_faktury\", \"typ_záznamu\"], ascending = False).head()"
   ]
  },
  {
   "cell_type": "markdown",
   "metadata": {},
   "source": [
    "Zde vidíme, že ke každému souhrnnému záznamu (podle sloupce *typ_záznamu*) přísluší alespoň jeden (může jich být i více) záznam položkový. Jde-li nám o faktury nehledě na položku rozpočtu, můžeme tyto záznamy vynechat jednoduchým filtrem podle právě zmíněného sloupce."
   ]
  },
  {
   "cell_type": "markdown",
   "metadata": {},
   "source": [
    "## Souhrnné záznamy"
   ]
  },
  {
   "cell_type": "markdown",
   "metadata": {},
   "source": [
    "V takto vytvořené tabulce pak dává smysl počítat základní statistiky, jakými můžou být například počet faktur uhrazených v měsíci březnu roku 2021, či jejich celková částka (všimněme si, že na rozdíl od sloupce *částka_v_měně* odpovídají údaje ve sloupci *částka* vždy Kč)."
   ]
  },
  {
   "cell_type": "code",
   "execution_count": 74,
   "metadata": {},
   "outputs": [
    {
     "name": "stdout",
     "output_type": "stream",
     "text": [
      "Počet faktur: 420\n",
      "Částka v milionech Kč: 103\n"
     ]
    }
   ],
   "source": [
    "faktury_souhrn = faktury[faktury[\"typ_záznamu\"] == \"souhrnný\"]\n",
    "\n",
    "brezen = (\"2021-03-01\" < faktury_souhrn[\"datum_úhrady\"]) & (faktury_souhrn[\"datum_úhrady\"] < \"2021-04-01\")\n",
    "\n",
    "faktury_03_21 = faktury_souhrn[brezen]\n",
    "\n",
    "def print_statistika(pocet, soucet_mil):\n",
    "    print(\"Počet faktur: \" + str(pocet))\n",
    "    \n",
    "    print(\"Částka v milionech Kč: \" + \"{:.0f}\".format(soucet_mil))\n",
    "\n",
    "pocet = len(faktury_03_21)\n",
    "\n",
    "soucet_mil = sum(faktury_03_21[\"částka\"])/10**6\n",
    "\n",
    "print_statistika(pocet, soucet_mil)"
   ]
  },
  {
   "cell_type": "markdown",
   "metadata": {},
   "source": [
    "## Položkové záznamy"
   ]
  },
  {
   "cell_type": "markdown",
   "metadata": {},
   "source": [
    "Pokud chceme naopak položku rozpočtu sledovat, můžeme analogicky vyfiltrovat záznamy položkové, případně můžeme v některých případech nechat tabulku tak, jak je, jelikož souhrnné záznamy nikdy položku rozpočtu obsahovat nebudou, jak se můžeme jednoduše přesvědčit."
   ]
  },
  {
   "cell_type": "code",
   "execution_count": 75,
   "metadata": {},
   "outputs": [
    {
     "data": {
      "text/plain": [
       "True"
      ]
     },
     "execution_count": 75,
     "metadata": {},
     "output_type": "execute_result"
    }
   ],
   "source": [
    "len(faktury_souhrn.dropna(subset = [\"položka_rozpočtu\"])) == 0"
   ]
  },
  {
   "cell_type": "markdown",
   "metadata": {},
   "source": [
    "Budeme-li chtít kupříkladu spočíst stejné statistiky, jako v předchozím případě, avšak pouze pro položku rozpočtu *Programové vybavení*, uděláme to třeba takto."
   ]
  },
  {
   "cell_type": "code",
   "execution_count": 76,
   "metadata": {},
   "outputs": [
    {
     "name": "stdout",
     "output_type": "stream",
     "text": [
      "Počet faktur: 2\n",
      "Částka v milionech Kč: 9\n"
     ]
    }
   ],
   "source": [
    "brezen = (\"2021-03-01\" < faktury[\"datum_úhrady\"]) & (faktury[\"datum_úhrady\"] < \"2021-04-01\")\n",
    "vybaveni = (faktury[\"název_položky_rozpočtu\"] == \"Programové vybavení\")\n",
    "\n",
    "faktury_03_21_PV = faktury[brezen & vybaveni]\n",
    "\n",
    "pocet = len(faktury_03_21_PV)\n",
    "            \n",
    "soucet_mil = sum(faktury_03_21_PV[\"částka\"])/10**6\n",
    "\n",
    "print_statistika(pocet, soucet_mil)"
   ]
  },
  {
   "cell_type": "markdown",
   "metadata": {},
   "source": [
    "O jaké faktury jde, můžeme zjistit následovně."
   ]
  },
  {
   "cell_type": "code",
   "execution_count": 77,
   "metadata": {},
   "outputs": [
    {
     "data": {
      "text/html": [
       "<div>\n",
       "<style scoped>\n",
       "    .dataframe tbody tr th:only-of-type {\n",
       "        vertical-align: middle;\n",
       "    }\n",
       "\n",
       "    .dataframe tbody tr th {\n",
       "        vertical-align: top;\n",
       "    }\n",
       "\n",
       "    .dataframe thead th {\n",
       "        text-align: right;\n",
       "    }\n",
       "</style>\n",
       "<table border=\"1\" class=\"dataframe\">\n",
       "  <thead>\n",
       "    <tr style=\"text-align: right;\">\n",
       "      <th></th>\n",
       "      <th>dodavatel_název</th>\n",
       "      <th>částka</th>\n",
       "      <th>účel_platby</th>\n",
       "      <th>číslo_faktury</th>\n",
       "    </tr>\n",
       "  </thead>\n",
       "  <tbody>\n",
       "    <tr>\n",
       "      <th>3267</th>\n",
       "      <td>ASD Software, s.r.o.</td>\n",
       "      <td>386425.0</td>\n",
       "      <td>Návrh, dodání a implementace IS APAO - Dodání ...</td>\n",
       "      <td>2100000463</td>\n",
       "    </tr>\n",
       "    <tr>\n",
       "      <th>3303</th>\n",
       "      <td>Státní pokladna Centrum sdílených služeb, s. p.</td>\n",
       "      <td>8178759.0</td>\n",
       "      <td>Smlouva o podpoře a rozvoji IISSP a poskytován...</td>\n",
       "      <td>2100000454</td>\n",
       "    </tr>\n",
       "  </tbody>\n",
       "</table>\n",
       "</div>"
      ],
      "text/plain": [
       "                                      dodavatel_název     částka  \\\n",
       "3267                             ASD Software, s.r.o.   386425.0   \n",
       "3303  Státní pokladna Centrum sdílených služeb, s. p.  8178759.0   \n",
       "\n",
       "                                            účel_platby  číslo_faktury  \n",
       "3267  Návrh, dodání a implementace IS APAO - Dodání ...     2100000463  \n",
       "3303  Smlouva o podpoře a rozvoji IISSP a poskytován...     2100000454  "
      ]
     },
     "execution_count": 77,
     "metadata": {},
     "output_type": "execute_result"
    }
   ],
   "source": [
    "faktury_03_21_PV[[\"dodavatel_název\", \"částka\", \"účel_platby\", \"číslo_faktury\"]]"
   ]
  },
  {
   "cell_type": "markdown",
   "metadata": {},
   "source": [
    "## Závěr"
   ]
  },
  {
   "cell_type": "markdown",
   "metadata": {},
   "source": [
    "Tolik tedy představení faktur, zbytek už je na Vás, na uživatelích našich otevřených dat."
   ]
  }
 ],
 "metadata": {
  "kernelspec": {
   "display_name": "Python 3",
   "language": "python",
   "name": "python3"
  },
  "language_info": {
   "codemirror_mode": {
    "name": "ipython",
    "version": 3
   },
   "file_extension": ".py",
   "mimetype": "text/x-python",
   "name": "python",
   "nbconvert_exporter": "python",
   "pygments_lexer": "ipython3",
   "version": "3.6.8"
  }
 },
 "nbformat": 4,
 "nbformat_minor": 2
}
